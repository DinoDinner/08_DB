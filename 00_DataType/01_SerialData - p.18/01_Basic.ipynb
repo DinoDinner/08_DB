{
 "cells": [
  {
   "attachments": {},
   "cell_type": "markdown",
   "metadata": {},
   "source": [
    "#### 데이터의 종류 – 연속형 데이터\n",
    "- 연속형 데이터(Continuous data)는 연속적인 값으로 이루어진 데이터다.\n",
    "- 수치형 데이터의 하나, 측정된값이 정확한 수치를 가지며, 연속적인 범위 내에서 무한히 변화 할 수 있다.\n",
    "- 예시 : 온도, 길이, 시간 등 연속형 데이터\n"
   ]
  },
  {
   "attachments": {},
   "cell_type": "markdown",
   "metadata": {},
   "source": [
    "#### 히스토그램\n",
    "히스토그램(Histogram)은 자료의 분포 상태를 직사각형의 막대 그래프로 나타낸 것입니다.\n",
    "\n",
    "히스토그램은 자료의 분포 형태를 쉽게 파악할 수 있어서 데이터 분석에서 많이 사용됩니다.\n",
    "\n",
    "예를 들어, 어떤 상품의 판매량을 히스토그램으로 나타내면, 상품의 인기도, 수요 분포 등을 파악할 수 있습니다.\n",
    "\n",
    "- \"Black Friday Sales＂데이터간단소개\n",
    "미국의 한 대형소매점에서 2010년부터 2016년까지의 블랙프라이데이 세일기록을 포함하고 있습니다. \n",
    "이 데이터 셋은 구매한 제품의 정보, 구매한 고객의 정보, 구매금액등을 포함하고 있으며, \n",
    "총12,537,577개의 레코드를 가지고있습니다.\n",
    "\n",
    "\"User_ID\"별로 구매한 총금액을 계산하고, 이를 히스토그램 과밀도 그래프로 시각화합니다.\n"
   ]
  },
  {
   "cell_type": "code",
   "execution_count": null,
   "metadata": {},
   "outputs": [
    {
     "ename": "",
     "evalue": "",
     "output_type": "error",
     "traceback": [
      "\u001b[1;31m커널을 시작하지 못했습니다. \n",
      "\u001b[1;31mThe kernel 'AI (Python 3.8.16)' was not started as it is located in an insecure location 'c:\\ProgramData\\jupyter\\kernels\\ai\\kernel.json'.  \n",
      "\u001b[1;31mClick <a href='https://aka.ms/JupyterTrustedKernelPaths'>here</a> for further details, optionally update the setting <a href='command:workbench.action.openSettings?[\"jupyter.kernels.trusted\"]'>jupyter.kernels.trusted</a> to trust the kernel."
     ]
    }
   ],
   "source": [
    "# 연속형 데이터 간단 실습\n",
    "# Black Fridays sales - User_ID 별로\n",
    "\n",
    "import pandas as pd\n",
    "import matplotlib.pyplot as plt\n",
    "\n",
    "# 데이터셋 불러오기\n",
    "data = pd.read_csv('../99_File/02_Data/01_BlackFriday.csv')\n",
    "print(data,'\\n')\n",
    "\n",
    "# User_ID별 구매 총 금액 계산\n",
    "user_total_spent = data.groupby('User_ID')['Purchase'].sum()\n",
    "print(user_total_spent)"
   ]
  },
  {
   "cell_type": "code",
   "execution_count": null,
   "metadata": {},
   "outputs": [
    {
     "ename": "",
     "evalue": "",
     "output_type": "error",
     "traceback": [
      "\u001b[1;31m커널을 시작하지 못했습니다. \n",
      "\u001b[1;31mThe kernel 'AI (Python 3.8.16)' was not started as it is located in an insecure location 'c:\\ProgramData\\jupyter\\kernels\\ai\\kernel.json'.  \n",
      "\u001b[1;31mClick <a href='https://aka.ms/JupyterTrustedKernelPaths'>here</a> for further details, optionally update the setting <a href='command:workbench.action.openSettings?[\"jupyter.kernels.trusted\"]'>jupyter.kernels.trusted</a> to trust the kernel."
     ]
    }
   ],
   "source": [
    "# 히스토그램 그리기\n",
    "\n",
    "plt.hist(user_total_spent,bins=50)\n",
    "# bins : 막대 그래플의 개수\n",
    "\n",
    "plt.title('Histogram of Total Purchase Amount By User')\n",
    "plt.xlabel('Total Purchase Amount')\n",
    "plt.ylabel('Frequency')\n",
    "\n",
    "plt.show()\n",
    "\n",
    "# X축 단위 - 10000달러 / Y축 단위 - 빈도수"
   ]
  }
 ],
 "metadata": {
  "kernelspec": {
   "display_name": "AI",
   "language": "python",
   "name": "ai"
  },
  "language_info": {
   "codemirror_mode": {
    "name": "ipython",
    "version": 3
   },
   "file_extension": ".py",
   "mimetype": "text/x-python",
   "name": "python",
   "nbconvert_exporter": "python",
   "pygments_lexer": "ipython3",
   "version": "3.8.16"
  }
 },
 "nbformat": 4,
 "nbformat_minor": 2
}
