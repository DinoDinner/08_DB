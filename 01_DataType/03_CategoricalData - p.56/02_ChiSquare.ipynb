{
 "cells": [
  {
   "attachments": {},
   "cell_type": "markdown",
   "metadata": {},
   "source": [
    "#### 범주형 데이터 분석 시\n",
    "\n",
    "- 빈도수 : 데이터의 특성을 파악하는 데 중요한 정보를 제공\n",
    "- 비율 : 각 항목이 데이터 전체에서 차지하는 비중을 확인\n",
    "- 카이제곱 검정 : 두 개 이상의 범주형 변수가 서로 관련이 있는지 검증시 사용."
   ]
  },
  {
   "attachments": {},
   "cell_type": "markdown",
   "metadata": {},
   "source": [
    "- 카이제곱 겅점\n",
    "    - 관찰된 값과 기대값을 비교하여 카이제곱 검정 통계량 계산\n",
    "    - 통계량은 두 변수 간의 관련성이 있는지 여부를 나타냄, 유의수준과 자유도에 따라 검정 결과 해석\n"
   ]
  },
  {
   "cell_type": "code",
   "execution_count": 3,
   "metadata": {},
   "outputs": [],
   "source": [
    "import numpy as np\n",
    "from scipy.stats import chi2_contingency"
   ]
  },
  {
   "cell_type": "code",
   "execution_count": 4,
   "metadata": {},
   "outputs": [
    {
     "name": "stdout",
     "output_type": "stream",
     "text": [
      "[[10 20 30]\n",
      " [ 6 15  9]]\n"
     ]
    }
   ],
   "source": [
    "# 예시 데이터 생성\n",
    "observed_values = np.array([[10,20,30],[6,15,9]])\n",
    "print(observed_values)"
   ]
  },
  {
   "cell_type": "code",
   "execution_count": 5,
   "metadata": {},
   "outputs": [],
   "source": [
    "# 카이제곱 검정 수행\n",
    "chi2, p_value, dof, expected_values = chi2_contingency(observed_values)\n",
    "# chi_contingency : 카이제곱 우연성\n",
    "# dof : Degree of Freedom(자유도)"
   ]
  },
  {
   "cell_type": "code",
   "execution_count": 6,
   "metadata": {},
   "outputs": [
    {
     "name": "stdout",
     "output_type": "stream",
     "text": [
      "카이제곱 통계량 : 3.3997252747252746\n",
      "p-value : 0.18270861966696167\n",
      "자유도 : 2\n",
      "기대값 : \n",
      "[[10.66666667 23.33333333 26.        ]\n",
      " [ 5.33333333 11.66666667 13.        ]]\n"
     ]
    }
   ],
   "source": [
    "# 결고 출력\n",
    "print(f\"카이제곱 통계량 : {chi2}\")\n",
    "print(f\"p-value : {p_value}\")\n",
    "print(f\"자유도 : {dof}\")\n",
    "print(\"기대값 : \")\n",
    "print(expected_values)"
   ]
  },
  {
   "attachments": {},
   "cell_type": "markdown",
   "metadata": {},
   "source": [
    "- 통계량 : 값이 클수록 두 변수 간의 관련성이 강해짐, 하지만 유의미성은 p-value를 함꼐 고려해야함\n",
    "- p-value : 해당 변수들 간의 관계가 우연히 발생할 확률. 0.05(5%) 이하면 유의미하다\n",
    "- 자유도 : 2개의 범주형 변수 중 하나의 변수가 3개 범주, 다른 하나 2개의 범주를 가짐 / (3-1)x(2-1)=2"
   ]
  }
 ],
 "metadata": {
  "kernelspec": {
   "display_name": "base",
   "language": "python",
   "name": "python3"
  },
  "language_info": {
   "codemirror_mode": {
    "name": "ipython",
    "version": 3
   },
   "file_extension": ".py",
   "mimetype": "text/x-python",
   "name": "python",
   "nbconvert_exporter": "python",
   "pygments_lexer": "ipython3",
   "version": "3.10.8"
  },
  "orig_nbformat": 4
 },
 "nbformat": 4,
 "nbformat_minor": 2
}
