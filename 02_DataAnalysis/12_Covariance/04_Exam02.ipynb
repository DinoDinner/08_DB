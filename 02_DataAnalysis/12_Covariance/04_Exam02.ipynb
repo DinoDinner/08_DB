{
 "cells": [
  {
   "cell_type": "code",
   "execution_count": 4,
   "metadata": {},
   "outputs": [],
   "source": [
    "import seaborn as sns\n",
    "import pandas as pd"
   ]
  },
  {
   "cell_type": "code",
   "execution_count": 21,
   "metadata": {},
   "outputs": [
    {
     "name": "stdout",
     "output_type": "stream",
     "text": [
      "     survived  pclass     sex   age  sibsp  parch     fare embarked  class   \n",
      "1           1       1  female  38.0      1      0  71.2833        C  First  \\\n",
      "3           1       1  female  35.0      1      0  53.1000        S  First   \n",
      "6           0       1    male  54.0      0      0  51.8625        S  First   \n",
      "10          1       3  female   4.0      1      1  16.7000        S  Third   \n",
      "11          1       1  female  58.0      0      0  26.5500        S  First   \n",
      "..        ...     ...     ...   ...    ...    ...      ...      ...    ...   \n",
      "871         1       1  female  47.0      1      1  52.5542        S  First   \n",
      "872         0       1    male  33.0      0      0   5.0000        S  First   \n",
      "879         1       1  female  56.0      0      1  83.1583        C  First   \n",
      "887         1       1  female  19.0      0      0  30.0000        S  First   \n",
      "889         1       1    male  26.0      0      0  30.0000        C  First   \n",
      "\n",
      "       who  adult_male deck  embark_town alive  alone  \n",
      "1    woman       False    C    Cherbourg   yes  False  \n",
      "3    woman       False    C  Southampton   yes  False  \n",
      "6      man        True    E  Southampton    no   True  \n",
      "10   child       False    G  Southampton   yes  False  \n",
      "11   woman       False    C  Southampton   yes   True  \n",
      "..     ...         ...  ...          ...   ...    ...  \n",
      "871  woman       False    D  Southampton   yes  False  \n",
      "872    man        True    B  Southampton    no   True  \n",
      "879  woman       False    C    Cherbourg   yes  False  \n",
      "887  woman       False    B  Southampton   yes   True  \n",
      "889    man        True    C    Cherbourg   yes   True  \n",
      "\n",
      "[182 rows x 15 columns]\n"
     ]
    }
   ],
   "source": [
    "df = sns.load_dataset('titanic').dropna()\n",
    "print(df)"
   ]
  },
  {
   "cell_type": "code",
   "execution_count": 22,
   "metadata": {},
   "outputs": [
    {
     "name": "stdout",
     "output_type": "stream",
     "text": [
      "            survived    pclass       age     sibsp     parch      fare   \n",
      "survived    1.000000 -0.037698 -0.251045  0.101376  0.018739  0.130632  \\\n",
      "pclass     -0.037698  1.000000 -0.305708 -0.105262  0.046273 -0.316796   \n",
      "age        -0.251045 -0.305708  1.000000 -0.154160 -0.269757 -0.090730   \n",
      "sibsp       0.101376 -0.105262 -0.154160  1.000000  0.253478  0.284841   \n",
      "parch       0.018739  0.046273 -0.269757  0.253478  1.000000  0.388540   \n",
      "fare        0.130632 -0.316796 -0.090730  0.284841  0.388540  1.000000   \n",
      "adult_male -0.582727 -0.122403  0.338384 -0.147610 -0.183689 -0.114147   \n",
      "alone      -0.111827  0.064678  0.203460 -0.628796 -0.549197 -0.298233   \n",
      "\n",
      "            adult_male     alone  \n",
      "survived     -0.582727 -0.111827  \n",
      "pclass       -0.122403  0.064678  \n",
      "age           0.338384  0.203460  \n",
      "sibsp        -0.147610 -0.628796  \n",
      "parch        -0.183689 -0.549197  \n",
      "fare         -0.114147 -0.298233  \n",
      "adult_male    1.000000  0.193695  \n",
      "alone         0.193695  1.000000  \n"
     ]
    }
   ],
   "source": [
    "corr = df[['survived','pclass','age','sibsp','parch','fare','adult_male','alone']].corr()\n",
    "print(corr)"
   ]
  }
 ],
 "metadata": {
  "kernelspec": {
   "display_name": "Python 3",
   "language": "python",
   "name": "python3"
  },
  "language_info": {
   "codemirror_mode": {
    "name": "ipython",
    "version": 3
   },
   "file_extension": ".py",
   "mimetype": "text/x-python",
   "name": "python",
   "nbconvert_exporter": "python",
   "pygments_lexer": "ipython3",
   "version": "3.10.8"
  },
  "orig_nbformat": 4
 },
 "nbformat": 4,
 "nbformat_minor": 2
}
