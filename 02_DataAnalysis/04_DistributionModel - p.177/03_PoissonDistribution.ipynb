{
 "cells": [
  {
   "attachments": {},
   "cell_type": "markdown",
   "metadata": {},
   "source": [
    "##### 포아송 분포\n",
    "\n",
    "1. 단위 시간 또는 공간에서 발생하는 사건의 수를 모델링하는데 사용\n",
    "2. 사건 발생률이 일정하고 독립적으로 발생하는 상황을 모델링하는데 사용\n",
    "\n",
    "- 예시 : 한 시간 동안 발생하는 전화 수가 평균 3회 -> 한 시간 동안 발생할 전화의 수 예측\n",
    "- 확률 번수는 0 이상의 정수 , Parameter(모수)\n",
    "- 평균과 분산이 모두 Lamda(사건 발생률)로 표현됨, 양수 이고 크면 클수록 사건 발생증가\n",
    "- 확률 계산 시 확률질량함수(PMF), 누적분포함수(CDF), 평균, 분산을 종합적으로 사용하는 것이 좋음"
   ]
  },
  {
   "cell_type": "code",
   "execution_count": 8,
   "metadata": {},
   "outputs": [],
   "source": [
    "import numpy as np\n",
    "import matplotlib.pyplot as plt\n",
    "from scipy.stats import poisson"
   ]
  },
  {
   "cell_type": "code",
   "execution_count": 86,
   "metadata": {},
   "outputs": [
    {
     "name": "stdout",
     "output_type": "stream",
     "text": [
      "[ 5  4  8  2  2  2  2  1  3  4  4  3  3  2  3  3  4  5  1  4  6  2  2  6\n",
      "  4  5  4  2  3  2  8  2  2  3  5  6  1  2  2  3  4  4  3  3  1  3  3  5\n",
      "  4  2  2  2  5  2  3  3  2  3  0  2  4  5  3  3  5  1  3  4  3  3  5  3\n",
      "  0  1  3  6  3  4  5  5  4  3  2  3  4  2  3  3  5  2  1  0  5  3  4  0\n",
      "  3  4  1  7  5  2  0  3  5  3  5  2  1  4  3  4  4  2  3  4  3  1  6  1\n",
      "  6  0  4  2  9  6  3  3  1  5  6  4  4  2  2  6  3  4  3  2  3  6  1  1\n",
      "  1  2  3  2  7  3  2  3  2  1  6  1  9  2  2  3  2  3  5  2  5  1  3  1\n",
      "  7  5  3  0  6  6  2  2  3  2  2  4  1  4  1  3  4  2  3  3  4  8  3  6\n",
      "  8  2  3  4  6  5  0  2  1  3  3  3  3  1  4  2  6  2  3  8  3  0  2  3\n",
      "  2  2  2  1  5  5  5  4  2  2  4  4  2  2  4  1  1  3  2  2  1  4  3  2\n",
      "  4  8  3  4  3  3  0  1  2  4  3  1  0  0  2  2  4  1  2  4  3  3  8  3\n",
      "  1  3  1  2  2  3  2  4  4  5  5  4  2  4  4  3  3  2  0  0  1  2  1  3\n",
      "  2  7  2  5  5  6  4  6  2  4  2  1  3  5  2  1  3  2  7  4  2  2  3  3\n",
      "  3  3  2  1  0  1  1  3  2  2  4  1  2  1  3  0  2  4  6  2  4  3  2  5\n",
      "  4  1  1  2  6  1  1  4  3  1  4  4  3  0  3  4  2  3  6  1  2  3  2  0\n",
      "  1  3  2  1  1  6  7  3  2  4  2  5  2  3  6  4  5  3  1  8  2  3  1  5\n",
      "  2  2  0  1  1  2  2  3  3  4  5  3  4  2  4  3  4  6  2  3  2  2  4  3\n",
      "  3  4  2  4  6  5  4  3  6  3  5  3  2  4  3  2  0  3  4  0  3  2  7  3\n",
      "  2  4  2  7  2  4  3  1  5  2  3  0  3  3  4  0  0  6  4  2  2  2  2  4\n",
      "  5  4  5  2  4  3  6  4  2  1  1  5  4  4  6  5  2  4  2  0  4  6  2  5\n",
      "  6  3  4  2  3  2  0  3  3  6  3  2  5  3  1  2  2  2  2  1  1  1  7  8\n",
      "  2  3  1  4  1  3  6  1  3  2  2  3  2  2  5  4  2  4  0  1  1  3  1  3\n",
      "  0  1  2  5  4  4  4  3  3  5  6  2  1  3  2  3  2  4  3  1  2  4  3  4\n",
      "  1  2  6  1  2  5  2  3  7  3  2  4  3  2  0  1  4  5  6  1  3  5  1  4\n",
      "  3  4  3  7  3  1  2  1  7  3  2  6  2  3  4  4  1  7  3  2  1  0  0  6\n",
      "  2  2  3  0  3  5  3  6  4  4  4  6  4  2  4  3  4  2  1  5  4  3  5  0\n",
      "  3  1  6  3  1  3  4  0  1  4  4  3  3  2  1  0  4  4  6  4  4  8  1  4\n",
      "  5  4  2  4  4  3  5  3  6  4  4  4  1  3  4  4  4  4  4  1  2  2  3  3\n",
      "  3  3  3  2  0  1  4  2  0  6  1  1  2  2  2  1  2  4  6  3  2  3  3  4\n",
      "  0  3  3  1  5  6  2  3  2  5  2  3  1  6  3  1  1  2  3  2  0  3  2  2\n",
      "  0  2  5  0  3  4  1  5  2  4  3  4  0  3  3  2  2  2  1  3  2  6  6  3\n",
      "  6  3  2  1  5  5  5  4  9  7  1  3  2  5  3  2  4  4  5  1  0  4  4  6\n",
      "  5  7  2  6  4  1  5  3  5  1  5  3  4  3  1  4  2  6  5  4  5  3  3  2\n",
      "  1  3  1  5  5  4  1  1  4  1  5  4  4  3  4  4  1  1  6  0  3  2  5  3\n",
      "  2  0  5  3  3  6  2  5  3  1  2  3  2  2  2  4  1  2  4  0  5  2  5  1\n",
      "  2  2  2  3  2  4  3  3  2  2  0  3  5  6  3  6  1  3  3  6  4  4  2  1\n",
      "  2  2  5  4  4  3  2  1  0  3  3  2  1  4  2  5  4  5  4  2  3  5  5  7\n",
      "  2  2  2  3  3  3  1  2  2  4  3  5  4  4  8  3  3  3  3  4  2  2  2  2\n",
      "  1  9  0  1  8  5  2  1  3  4  1  1  4  1  1  1  2  2  1  2  1  1  2  0\n",
      "  1  3  1  1  3  6  1  3  2  4  2  5  6  5  2  1  3 12  1  2  2  1  4  3\n",
      "  3  4  5  3  3  2  1  1  1  4  2  6  2  2  3  6  0  6  1  2  3  2  5  2\n",
      "  4  4  1  3  4  1  3  4  3  0  6  3  4  1  3  2]\n"
     ]
    }
   ],
   "source": [
    "# 포아송 분폰 모델링\n",
    "lambda_param = 3 # 사건 발생 평균 횟수\n",
    "\n",
    "# 포아송 분포 시뮬레이션\n",
    "num_simulation = 1000 # 시뮬레이션 횟수\n",
    "events = np.random.poisson(lambda_param,num_simulation)\n",
    "print(events)"
   ]
  },
  {
   "cell_type": "code",
   "execution_count": 88,
   "metadata": {},
   "outputs": [
    {
     "data": {
      "image/png": "[encoded data removed]",
      "text/plain": [
       "<Figure size 640x480 with 1 Axes>"
      ]
     },
     "metadata": {},
     "output_type": "display_data"
    }
   ],
   "source": [
    "# 포아송 분포 시뮬레이션 결과 시각화\n",
    "plt.hist(events, bins=10, alpha=0.5)\n",
    "plt.xlabel('Number of Events')\n",
    "plt.ylabel('Frequency')\n",
    "plt.title('Poisson Distribution Simulation')\n",
    "plt.show()"
   ]
  },
  {
   "attachments": {},
   "cell_type": "markdown",
   "metadata": {},
   "source": [
    "- 평규 사건 발생 횟수(3)를 중심으로 좌우 대칭인 분포을 보인다.\n",
    "- 평균 사건의 회숫가 가장 빈도수가 높다.\n",
    "- 평균과 분산이 동일하다는 것이 특징"
   ]
  }
 ],
 "metadata": {
  "kernelspec": {
   "display_name": "Python 3",
   "language": "python",
   "name": "python3"
  },
  "language_info": {
   "codemirror_mode": {
    "name": "ipython",
    "version": 3
   },
   "file_extension": ".py",
   "mimetype": "text/x-python",
   "name": "python",
   "nbconvert_exporter": "python",
   "pygments_lexer": "ipython3",
   "version": "3.10.8"
  },
  "orig_nbformat": 4
 },
 "nbformat": 4,
 "nbformat_minor": 2
}
