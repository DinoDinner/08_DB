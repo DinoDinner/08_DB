{
 "cells": [
  {
   "attachments": {},
   "cell_type": "markdown",
   "metadata": {},
   "source": [
    "#### 이상치 용어 소개\n",
    "\n",
    "1. 이상치 : 데이터 집합에서 관측치들과 동떨어진 값을 의미\n",
    "2. 잘못된 측정, 데이터 수집 오류, 자연적인 이벤트의 특이한 경과 등 여러 가지 요인으로 인해 발생\n",
    "3. 분석과 예측에 부정적인 영향이 발생하므로 이상치를 식별하고 적절하게 처리해야함"
   ]
  },
  {
   "attachments": {},
   "cell_type": "markdown",
   "metadata": {},
   "source": [
    "#### 이상치 탐지\n",
    "\n",
    "- 통계적인 방법\n",
    "- 그래프나 시각화를 통한 방법\n",
    "- 이상치를 제거하거나 대체하는 등의 처리 방법"
   ]
  }
 ],
 "metadata": {
  "language_info": {
   "name": "python"
  },
  "orig_nbformat": 4
 },
 "nbformat": 4,
 "nbformat_minor": 2
}
