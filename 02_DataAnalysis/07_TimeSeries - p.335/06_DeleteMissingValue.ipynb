{
 "cells": [
  {
   "cell_type": "code",
   "execution_count": 2,
   "metadata": {},
   "outputs": [],
   "source": [
    "import pandas as pd \n",
    "import numpy as np"
   ]
  },
  {
   "attachments": {},
   "cell_type": "markdown",
   "metadata": {},
   "source": [
    "#### 1. 결측치 데이터 생성"
   ]
  },
  {
   "cell_type": "code",
   "execution_count": 3,
   "metadata": {},
   "outputs": [
    {
     "name": "stdout",
     "output_type": "stream",
     "text": [
      "         Date     Value\n",
      "0  2023-01-01  0.496714\n",
      "1  2023-01-02 -0.138264\n",
      "2  2023-01-03  0.647689\n",
      "3  2023-01-04  1.523030\n",
      "4  2023-01-05 -0.234153\n",
      "..        ...       ...\n",
      "95 2023-04-06 -1.463515\n",
      "96 2023-04-07  0.296120\n",
      "97 2023-04-08  0.261055\n",
      "98 2023-04-09  0.005113\n",
      "99 2023-04-10 -0.234587\n",
      "\n",
      "[100 rows x 2 columns]\n",
      "Date     2023-01-11 00:00:00\n",
      "Value                    NaN\n",
      "Name: 10, dtype: object\n"
     ]
    }
   ],
   "source": [
    "# 결측치 생성\n",
    "np.random.seed(42)\n",
    "dates = pd.date_range (start='2023-01-01', periods=100, freq='D')\n",
    "values = np.random.randn(100)\n",
    "values[10] = np.nan \n",
    "\n",
    "# 데이터프레임 생성\n",
    "data = pd.DataFrame({'Date': dates, 'Value': values})\n",
    "print(data)\n",
    "\n",
    "# 결측치 생성 여부 체크\n",
    "row_11 = data.iloc[10]\n",
    "print (row_11)"
   ]
  },
  {
   "attachments": {},
   "cell_type": "markdown",
   "metadata": {},
   "source": [
    "#### 2. 결측치 체크 후 삭제"
   ]
  },
  {
   "cell_type": "code",
   "execution_count": 4,
   "metadata": {},
   "outputs": [
    {
     "name": "stdout",
     "output_type": "stream",
     "text": [
      "결측치 개수 : \n",
      "Date     0\n",
      "Value    1\n",
      "dtype: int64\n",
      "결측치가 제거된 데이터 : \n",
      "         Date     Value\n",
      "0  2023-01-01  0.496714\n",
      "1  2023-01-02 -0.138264\n",
      "2  2023-01-03  0.647689\n",
      "3  2023-01-04  1.523030\n",
      "4  2023-01-05 -0.234153\n",
      "..        ...       ...\n",
      "95 2023-04-06 -1.463515\n",
      "96 2023-04-07  0.296120\n",
      "97 2023-04-08  0.261055\n",
      "98 2023-04-09  0.005113\n",
      "99 2023-04-10 -0.234587\n",
      "\n",
      "[99 rows x 2 columns]\n"
     ]
    }
   ],
   "source": [
    "# 결측치 개수 확인 체크\n",
    "print(\"결측치 개수 : \")\n",
    "print(data.isnull().sum())\n",
    "\n",
    "# 결측치가 있는 행 삭제\n",
    "data_without_missing = data.dropna(axis=0)\n",
    "\n",
    "# 결측치 삭제 후 결과 확인\n",
    "print(\"결측치가 제거된 데이터 : \")\n",
    "print(data_without_missing)"
   ]
  },
  {
   "attachments": {},
   "cell_type": "markdown",
   "metadata": {},
   "source": [
    "- 데이터가 하나 삭제된 것을 확인 할 수 있다."
   ]
  }
 ],
 "metadata": {
  "kernelspec": {
   "display_name": "Python 3",
   "language": "python",
   "name": "python3"
  },
  "language_info": {
   "codemirror_mode": {
    "name": "ipython",
    "version": 3
   },
   "file_extension": ".py",
   "mimetype": "text/x-python",
   "name": "python",
   "nbconvert_exporter": "python",
   "pygments_lexer": "ipython3",
   "version": "3.10.8"
  },
  "orig_nbformat": 4
 },
 "nbformat": 4,
 "nbformat_minor": 2
}
