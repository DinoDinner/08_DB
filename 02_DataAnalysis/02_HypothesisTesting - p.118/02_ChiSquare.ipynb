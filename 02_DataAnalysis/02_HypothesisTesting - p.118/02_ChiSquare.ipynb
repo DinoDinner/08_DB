{
 "cells": [
  {
   "attachments": {},
   "cell_type": "markdown",
   "metadata": {},
   "source": [
    "#### 카이스퀘어 검정\n",
    "\n",
    "1. 관측값과 기대값 차이가 우연에의한 것인지 아니면 유의미한 것인지를 검정하는 방법\n",
    "2. 분류 문제에서 많이 사용, 범주형 견수 간의 관계를 알아보는 데 적합\n",
    "\n",
    "- 귀무가설과 대립가설을 설정하고 검정\n",
    "- 귀무가설 : 두 변수간의 연관성이 없다.\n",
    "- 대립가성 : 연관성이 있다."
   ]
  },
  {
   "cell_type": "code",
   "execution_count": 1,
   "metadata": {},
   "outputs": [],
   "source": [
    "import pandas as pd\n",
    "import numpy as np\n",
    "from scipy.stats import chi2_contingency"
   ]
  },
  {
   "cell_type": "code",
   "execution_count": 2,
   "metadata": {},
   "outputs": [
    {
     "name": "stdout",
     "output_type": "stream",
     "text": [
      "  Gender Smoker  Count\n",
      "0      M    Yes     20\n",
      "1      M     No     80\n",
      "2      M     No     40\n",
      "3      M    Yes     60\n",
      "4      F    Yes     40\n",
      "5      F     No    160\n",
      "6      F     NO     80\n",
      "7      F    Yes    120\n"
     ]
    }
   ],
   "source": [
    "# 가상의 데이터 생성\n",
    "data ={\n",
    "    'Gender': ['M','M','M','M','F','F','F','F'],\n",
    "    'Smoker': ['Yes','No','No','Yes','Yes','No','NO','Yes'],\n",
    "    'Count' : [20, 80, 40, 60, 40, 160, 80, 120]\n",
    "}\n",
    "df = pd.DataFrame(data)\n",
    "print(df)"
   ]
  },
  {
   "cell_type": "code",
   "execution_count": 3,
   "metadata": {},
   "outputs": [
    {
     "name": "stdout",
     "output_type": "stream",
     "text": [
      "Smoker    NO     No   Yes\n",
      "Gender                   \n",
      "F       80.0  160.0  80.0\n",
      "M        NaN   60.0  40.0\n"
     ]
    }
   ],
   "source": [
    "# 데이터 프레임을 이용한 분할표 생성\n",
    "table = pd.pivot_table(df, values='Count',index='Gender',columns='Smoker')\n",
    "print(table)"
   ]
  },
  {
   "cell_type": "code",
   "execution_count": 4,
   "metadata": {},
   "outputs": [
    {
     "name": "stdout",
     "output_type": "stream",
     "text": [
      "p-value: nan, 귀무 가설 채택\n"
     ]
    }
   ],
   "source": [
    "# Chi2_contingency\n",
    "stat, p, dof, expected = chi2_contingency(table)\n",
    "alpha = 0.05\n",
    "\n",
    "if p < alpha:\n",
    "    print(f\"p-value: {p:.4f}, 귀무 가설 기각\")\n",
    "else:\n",
    "    print(f\"p-value: {p:.4f}, 귀무 가설 채택\")"
   ]
  },
  {
   "attachments": {},
   "cell_type": "markdown",
   "metadata": {},
   "source": [
    "- p-value의 결과 값으로 귀무가설이 채택됨 = 성별과 흡연 간에는 연관성이 없다.\n"
   ]
  }
 ],
 "metadata": {
  "kernelspec": {
   "display_name": "base",
   "language": "python",
   "name": "python3"
  },
  "language_info": {
   "codemirror_mode": {
    "name": "ipython",
    "version": 3
   },
   "file_extension": ".py",
   "mimetype": "text/x-python",
   "name": "python",
   "nbconvert_exporter": "python",
   "pygments_lexer": "ipython3",
   "version": "3.10.8"
  },
  "orig_nbformat": 4
 },
 "nbformat": 4,
 "nbformat_minor": 2
}
