{
 "cells": [
  {
   "attachments": {},
   "cell_type": "markdown",
   "metadata": {},
   "source": [
    "#### 맨-휘트니 검정의 순서 : \n",
    "\n",
    "- 가설 설정\n",
    "\n",
    "두 집단 내에서 순위 차이가 분포가 같다는 가정\n",
    "\n",
    "예를 들어, A 집단과 B 집단의 순위차이의 분포가 같다면, A 집단의 순위가 B 집단의 순위보다 높을 확률과 A 집단의 순위가 B 집단의 순위보다 낮을 확률이 동일합니다. 이는 두 집단이 순위 차이에 대해 동등한 기회를 갖는다는 것을 의미합니다."
   ]
  },
  {
   "cell_type": "code",
   "execution_count": null,
   "metadata": {},
   "outputs": [],
   "source": []
  }
 ],
 "metadata": {
  "language_info": {
   "name": "python"
  },
  "orig_nbformat": 4
 },
 "nbformat": 4,
 "nbformat_minor": 2
}
