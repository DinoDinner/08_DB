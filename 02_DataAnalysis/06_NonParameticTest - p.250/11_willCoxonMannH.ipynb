{
 "cells": [
  {
   "attachments": {},
   "cell_type": "markdown",
   "metadata": {},
   "source": [
    "#### 윌콕슨-맨-휘트니 검정 통계량\n",
    "\n",
    "감정통계량(emotion statistic):\n",
    "검정 통계량(test statistic):"
   ]
  },
  {
   "cell_type": "code",
   "execution_count": 1,
   "metadata": {},
   "outputs": [
    {
     "name": "stdout",
     "output_type": "stream",
     "text": [
      "Mann-Whitney U statistic :  32.5\n",
      "p-value :  0.19622288836173518\n"
     ]
    }
   ],
   "source": [
    "from scipy.stats import mannwhitneyu\n",
    "\n",
    "# Example data\n",
    "group1 = [3,2,5,1,4,2,6,7,9,8]\n",
    "group2 = [6,4,7,2,6,3,7,9,10,11]\n",
    "\n",
    "# Calculate Mann-Whitney U statistic and p-value\n",
    "statistic, p_value = mannwhitneyu(group1,group2)\n",
    "\n",
    "print(\"Mann-Whitney U statistic : \", statistic)\n",
    "print(\"p-value : \", p_value)"
   ]
  }
 ],
 "metadata": {
  "kernelspec": {
   "display_name": "Python 3",
   "language": "python",
   "name": "python3"
  },
  "language_info": {
   "codemirror_mode": {
    "name": "ipython",
    "version": 3
   },
   "file_extension": ".py",
   "mimetype": "text/x-python",
   "name": "python",
   "nbconvert_exporter": "python",
   "pygments_lexer": "ipython3",
   "version": "3.10.8"
  },
  "orig_nbformat": 4
 },
 "nbformat": 4,
 "nbformat_minor": 2
}
