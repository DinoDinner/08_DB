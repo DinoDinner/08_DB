{
 "cells": [
  {
   "attachments": {},
   "cell_type": "markdown",
   "metadata": {},
   "source": [
    "#### 윌콕슨-맨-휘트니 통계량을 이용한 p-value 계산 실습\n"
   ]
  },
  {
   "cell_type": "code",
   "execution_count": 1,
   "metadata": {},
   "outputs": [],
   "source": [
    "import numpy as np\n",
    "import pandas as pd\n",
    "from scipy.stats import mannwhitneyu\n",
    "from scipy import stats"
   ]
  },
  {
   "cell_type": "code",
   "execution_count": 4,
   "metadata": {},
   "outputs": [
    {
     "name": "stdout",
     "output_type": "stream",
     "text": [
      "32.5 0.19622288836173518\n",
      "10 1\n",
      "-22.5\n",
      "1.11811668050322e-12\n"
     ]
    }
   ],
   "source": [
    "# 데이터 불러오기\n",
    "data = pd.read_csv('../00_DataEx/99_Output/mannwhitneyu_sample_data.csv')\n",
    "\n",
    "# 두 집단 간의 차이 검정\n",
    "st, p = mannwhitneyu(data['group1'],data['group2'])\n",
    "\n",
    "print(st,p)\n",
    "\n",
    "# 두 집단의 크기 계산\n",
    "n1, n2 = len(data['group1']),len(['group2'])\n",
    "print(n1,n2)\n",
    "\n",
    "if st > n1*n2 / 2 :\n",
    "    st = n1*n2 -st\n",
    "    \n",
    "# p-value 계산\n",
    "p_val = 2*stats.norm.cdf(-abs(st)/np.sqrt(n1*n2*(n1+n2+1)/12))  # 표준정규분포의 누적함수\n",
    "print(st)\n",
    "print(p_val)"
   ]
  }
 ],
 "metadata": {
  "kernelspec": {
   "display_name": "Python 3",
   "language": "python",
   "name": "python3"
  },
  "language_info": {
   "codemirror_mode": {
    "name": "ipython",
    "version": 3
   },
   "file_extension": ".py",
   "mimetype": "text/x-python",
   "name": "python",
   "nbconvert_exporter": "python",
   "pygments_lexer": "ipython3",
   "version": "3.10.8"
  },
  "orig_nbformat": 4
 },
 "nbformat": 4,
 "nbformat_minor": 2
}
