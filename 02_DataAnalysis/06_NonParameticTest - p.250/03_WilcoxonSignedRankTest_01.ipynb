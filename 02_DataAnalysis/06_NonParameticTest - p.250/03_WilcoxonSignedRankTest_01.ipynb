{
 "cells": [
  {
   "attachments": {},
   "cell_type": "markdown",
   "metadata": {},
   "source": [
    "#### 윌콕슨 부호 순위 검정\n",
    "\n",
    "1. 두 개의 관련이 있는 짝 데이터에 대한 비모수적인 검정 방법 중 하나\n",
    "2. 두 개의 짝 데이터는 서로 관련이 있다.\n",
    "3. 이들의 차이에 대한 분포가 정규분포를 따르지 않는 경우 사용.\n",
    "4. 두 집단의 중앙값 차이에 대한 가설을 검정\n",
    "\n",
    "\n",
    "##### 가정\n",
    "\n",
    "1. 변수가 서열척도를 가지고 있다.\n",
    "2. 변수는 두 개의 조건에서 측정된다.\n",
    "3. 변수의 차이는 중앙값이 아니라 중위수를 기준으로 한다."
   ]
  },
  {
   "cell_type": "code",
   "execution_count": 1,
   "metadata": {},
   "outputs": [],
   "source": [
    "import numpy as np\n",
    "from scipy.stats import wilcoxon"
   ]
  },
  {
   "cell_type": "code",
   "execution_count": 7,
   "metadata": {},
   "outputs": [],
   "source": [
    "# 데이터 생성 ( 2개 필요 )\n",
    "data1 = [ 20, 25 ,30, 35, 40, 45, 50, 55, 60, 65 ]\n",
    "data2 = [ 10, 20, 25, 30 ,36, 40, 45, 50, 55, 60 ]"
   ]
  },
  {
   "cell_type": "code",
   "execution_count": 10,
   "metadata": {},
   "outputs": [
    {
     "name": "stdout",
     "output_type": "stream",
     "text": [
      "0.0 0.001953125\n"
     ]
    }
   ],
   "source": [
    "# 윌콕슨 부호 순위 검정 수행\n",
    "stat, p = wilcoxon(data1, data2)\n",
    "print(stat,p)\n",
    "\n",
    "# stat : 두 개 데이터의 순위 차이를 나타냄\n",
    "# p, p-value :귀무가설 기각 유의성 "
   ]
  },
  {
   "cell_type": "code",
   "execution_count": 14,
   "metadata": {},
   "outputs": [
    {
     "name": "stdout",
     "output_type": "stream",
     "text": [
      "reject H0\n"
     ]
    }
   ],
   "source": [
    "if p > 0.05 :\n",
    "    print(\"Same distribution fail to reject H0\")\n",
    "else :\n",
    "    print(\"reject H0\")"
   ]
  },
  {
   "attachments": {},
   "cell_type": "markdown",
   "metadata": {},
   "source": [
    "- 유사한 분포가 차이가 크면 클수록 stat 값이 상승\n",
    "- 여기서 귀무가설은 차이가 없다."
   ]
  }
 ],
 "metadata": {
  "kernelspec": {
   "display_name": "Python 3",
   "language": "python",
   "name": "python3"
  },
  "language_info": {
   "codemirror_mode": {
    "name": "ipython",
    "version": 3
   },
   "file_extension": ".py",
   "mimetype": "text/x-python",
   "name": "python",
   "nbconvert_exporter": "python",
   "pygments_lexer": "ipython3",
   "version": "3.10.8"
  },
  "orig_nbformat": 4
 },
 "nbformat": 4,
 "nbformat_minor": 2
}
