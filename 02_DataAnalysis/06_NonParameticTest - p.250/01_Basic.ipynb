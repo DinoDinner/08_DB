{
 "cells": [
  {
   "attachments": {},
   "cell_type": "markdown",
   "metadata": {},
   "source": [
    "#### 비모수 검정\n",
    "\n",
    "1. 모집단의 분포 형태나 모수가 정확히 알려져 있지 않은 경우에 사용\n",
    "2. 모집단의 분포가 정규분포를 따르지 않는 경우에 사용\n",
    "3. 모수 검정보다 유연성은 높지만, 검정력이 낮을 수 있다는 한계가 있음\n",
    "4. 데이터 순위에만 의존하여 정보 손실이 발생할 수 있음\n",
    "5. 이상치 등의 영향을 덜 받음\n",
    "\n",
    "- 모수 검정 : t 검정, F 검정, Chi-Square 검정\n",
    "- 모집단의 분포 형태를 가정하지 않고, 자료 순위나 부호를 이용하여 검정함. (분포형태 불명 or 정규성 가정불가)"
   ]
  },
  {
   "attachments": {},
   "cell_type": "markdown",
   "metadata": {},
   "source": [
    "- 비모수 검정은 적은 가정만을 하기 때문에 자료의 분포 형태나 변동성 등을 정확하게 반영하기 어려움\n",
    "- 샘플의 크기, 분포, 목적 등을 고려하여 적절한 검정 방법을 먼저 시행해야함"
   ]
  },
  {
   "cell_type": "code",
   "execution_count": 1,
   "metadata": {},
   "outputs": [],
   "source": [
    "import numpy as np\n",
    "from scipy import stats"
   ]
  },
  {
   "cell_type": "code",
   "execution_count": 2,
   "metadata": {},
   "outputs": [],
   "source": [
    "# 두 집단의 데이터를 생성. 랜덤하게 생성된 정규분포 데이터 사용\n",
    "np.random.seed(42)"
   ]
  },
  {
   "cell_type": "code",
   "execution_count": 9,
   "metadata": {},
   "outputs": [],
   "source": [
    "# 모수 검정용 데이터 생성\n",
    "n = 100\n",
    "mu1, mu2 = 0, 0.5\n",
    "\n",
    "sigma = 1   # 표준편차 : 분포의 폭을 결정하는 값\n",
    "data1 = np.random.normal(mu1,sigma,n) # 중심값 0, 분산 1, 100개\n",
    "data2 = np.random.normal(mu2,sigma,n)"
   ]
  },
  {
   "cell_type": "code",
   "execution_count": 10,
   "metadata": {},
   "outputs": [],
   "source": [
    "# 비모수 검정용 데이터 생성\n",
    "m = 30\n",
    "\n",
    "data3 = np.random.uniform(0,1,m)    # 0-1 사이 /30개\n",
    "data4 = np.random.uniform(0.5,1.5,m)    # 0.5-1.5 사이"
   ]
  },
  {
   "cell_type": "code",
   "execution_count": 11,
   "metadata": {},
   "outputs": [
    {
     "name": "stdout",
     "output_type": "stream",
     "text": [
      "t-statistic : -5.015, p-value : 0.000\n"
     ]
    }
   ],
   "source": [
    "# 데이터 생성 후, 모수 검정 실시\n",
    "\n",
    "# 모수 검정\n",
    "t_stat, p_val = stats.ttest_ind(data1,data2)\n",
    "print(\"t-statistic : {:.3f}, p-value : {:.3f}\".format(t_stat,p_val))"
   ]
  },
  {
   "attachments": {},
   "cell_type": "markdown",
   "metadata": {},
   "source": [
    "- t-value : 두 집단 간 평균 차이 / 표준오차 -> 작을 수록 두 집단 간 차이가 작음\n",
    "- p-value : 검정 결과가 우연히 발생할 확률 -> 0.05 이하일 때 가설 기각\n",
    "\n",
    "- 결과는 유의미"
   ]
  },
  {
   "cell_type": "code",
   "execution_count": 12,
   "metadata": {},
   "outputs": [
    {
     "name": "stdout",
     "output_type": "stream",
     "text": [
      "U statistic : 119.000, p-value : 0.000\n"
     ]
    }
   ],
   "source": [
    "# 비모수 검정\n",
    "\n",
    "u_stat,p_val = stats.mannwhitneyu(data3,data4)\n",
    "print(\"U statistic : {:.3f}, p-value : {:.3f}\".format(u_stat,p_val))"
   ]
  },
  {
   "attachments": {},
   "cell_type": "markdown",
   "metadata": {},
   "source": [
    "- U statistic : 두개의 독립적인 그룹 간의차이에 대한 가설점정\n",
    "\n",
    "- p-value를 통해 유의미함을 알 수 있음"
   ]
  }
 ],
 "metadata": {
  "kernelspec": {
   "display_name": "Python 3",
   "language": "python",
   "name": "python3"
  },
  "language_info": {
   "codemirror_mode": {
    "name": "ipython",
    "version": 3
   },
   "file_extension": ".py",
   "mimetype": "text/x-python",
   "name": "python",
   "nbconvert_exporter": "python",
   "pygments_lexer": "ipython3",
   "version": "3.10.8"
  },
  "orig_nbformat": 4
 },
 "nbformat": 4,
 "nbformat_minor": 2
}
