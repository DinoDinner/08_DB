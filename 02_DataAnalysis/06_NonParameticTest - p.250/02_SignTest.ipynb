{
 "cells": [
  {
   "attachments": {},
   "cell_type": "markdown",
   "metadata": {},
   "source": [
    "#### 부호 검정\n",
    "\n",
    "1. 모집단의 분포에 대한 가정 없이 두개의 집단이 같은 분포를 가지고 있는지 검정하는 빙법\n",
    "2. 두 개 집단에서 쌍을 이루는 데이터 차이가 0인 경우 부호 없음 / 크면 + / 작으면 -\n",
    "3. +-의 개수를 세어 이항검정을 수행"
   ]
  },
  {
   "cell_type": "code",
   "execution_count": 1,
   "metadata": {},
   "outputs": [],
   "source": [
    "import numpy as np\n",
    "from scipy.stats import binom_test"
   ]
  },
  {
   "cell_type": "code",
   "execution_count": 4,
   "metadata": {},
   "outputs": [
    {
     "name": "stdout",
     "output_type": "stream",
     "text": [
      "[ 9.49671415  8.8617357   9.64768854 10.52302986  8.76584663  8.76586304\n",
      " 10.57921282  9.76743473  8.53052561  9.54256004  8.53658231  8.53427025\n",
      "  9.24196227  7.08671976  7.27508217  8.43771247  7.98716888  9.31424733\n",
      "  8.09197592  7.5876963 ]\n"
     ]
    }
   ],
   "source": [
    "# 가상의 데이터 생성\n",
    "np.random.seed(42)\n",
    "n = 20\n",
    "mu = 9\n",
    "data = np.random.normal(mu, size=n)\n",
    "print(data)"
   ]
  },
  {
   "cell_type": "code",
   "execution_count": 5,
   "metadata": {},
   "outputs": [],
   "source": [
    "# 검정할 값(mu0) 설정\n",
    "mu0 = 9\n",
    "\n",
    "# mu0보다 큰 값의 개수 계산\n",
    "n_above_mu0 = sum(data>mu0)"
   ]
  },
  {
   "cell_type": "code",
   "execution_count": 6,
   "metadata": {},
   "outputs": [
    {
     "name": "stdout",
     "output_type": "stream",
     "text": [
      "data above mu0 : 8\n",
      "binom test result : 0.5034446716308594\n"
     ]
    },
    {
     "name": "stderr",
     "output_type": "stream",
     "text": [
      "/var/folders/l7/0g5kr4p520dgw12yrnp54rgr0000gn/T/ipykernel_27361/1242522709.py:2: DeprecationWarning: 'binom_test' is deprecated in favour of 'binomtest' from version 1.7.0 and will be removed in Scipy 1.12.0.\n",
      "  p_value = binom_test(n_above_mu0, n=n)\n"
     ]
    }
   ],
   "source": [
    "# 부호 검정\n",
    "p_value = binom_test(n_above_mu0, n=n)\n",
    "\n",
    "print(f\"data above mu0 : {n_above_mu0}\")\n",
    "print(f\"binom test result : {p_value}\")"
   ]
  },
  {
   "attachments": {},
   "cell_type": "markdown",
   "metadata": {},
   "source": [
    "- p-value가 낮을수록 귀무가설 결과가 유의미\n",
    "- p-value 0.03 -> 귀무가설이 참일 때, 검정 결과가 나올 확률 3% 이하 / 귀무가설 기각, 대립가설 채택\n",
    "- 특정 가설이 맞는지 틀린지 여부를 검증할 때 사용."
   ]
  }
 ],
 "metadata": {
  "kernelspec": {
   "display_name": "Python 3",
   "language": "python",
   "name": "python3"
  },
  "language_info": {
   "codemirror_mode": {
    "name": "ipython",
    "version": 3
   },
   "file_extension": ".py",
   "mimetype": "text/x-python",
   "name": "python",
   "nbconvert_exporter": "python",
   "pygments_lexer": "ipython3",
   "version": "3.10.8"
  },
  "orig_nbformat": 4
 },
 "nbformat": 4,
 "nbformat_minor": 2
}
