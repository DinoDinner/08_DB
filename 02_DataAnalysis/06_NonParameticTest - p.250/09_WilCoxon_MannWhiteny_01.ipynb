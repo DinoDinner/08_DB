{
 "cells": [
  {
   "attachments": {},
   "cell_type": "markdown",
   "metadata": {},
   "source": [
    "#### 맨-휘트니 검정의 순서 : 가설설정\n",
    "\n",
    "- 가설 설정\n",
    "\n",
    "두 집단 내에서 순위 차이가 분포가 같다는 가정\n",
    "\n",
    "예를 들어, A 집단과 B 집단의 순위차이의 분포가 같다면, A 집단의 순위가 B 집단의 순위보다 높을 확률과 A 집단의 순위가 B 집단의 순위보다 낮을 확률이 동일합니다. 이는 두 집단이 순위 차이에 대해 동등한 기회를 갖는다는 것을 의미합니다."
   ]
  },
  {
   "cell_type": "code",
   "execution_count": 1,
   "metadata": {},
   "outputs": [
    {
     "name": "stdout",
     "output_type": "stream",
     "text": [
      "Mann-Whitney U statistic: 32.5\n",
      "p-value: 0.19622288836173518\n"
     ]
    }
   ],
   "source": [
    "from scipy.stats import mannwhitneyu\n",
    "# Example data\n",
    "group1 = [3, 2, 5, 1, 4, 2, 6, 7, 9, 8]\n",
    "group2 = [6, 4, 7, 2, 6, 3, 7, 9, 10, 11]\n",
    "\n",
    "# Calculate Mann-Whitney U statistic and p-value\n",
    "statistic, p_value = mannwhitneyu (group1, group2)\n",
    "print (\"Mann-Whitney U statistic:\", statistic)\n",
    "print (\"p-value:\", p_value)"
   ]
  }
 ],
 "metadata": {
  "kernelspec": {
   "display_name": "Python 3",
   "language": "python",
   "name": "python3"
  },
  "language_info": {
   "codemirror_mode": {
    "name": "ipython",
    "version": 3
   },
   "file_extension": ".py",
   "mimetype": "text/x-python",
   "name": "python",
   "nbconvert_exporter": "python",
   "pygments_lexer": "ipython3",
   "version": "3.10.8"
  },
  "orig_nbformat": 4
 },
 "nbformat": 4,
 "nbformat_minor": 2
}
