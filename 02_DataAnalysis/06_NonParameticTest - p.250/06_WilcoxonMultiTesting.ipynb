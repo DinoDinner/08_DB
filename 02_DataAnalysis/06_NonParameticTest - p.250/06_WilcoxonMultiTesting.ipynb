{
 "cells": [
  {
   "attachments": {},
   "cell_type": "markdown",
   "metadata": {},
   "source": [
    "#### 윌콕는 부호 순위 다중 검정\n",
    "\n",
    "1. 하나의 데이터 집합에서 여러 개의 가설 검정을 수행할 때 발생하는 문제를 다룸. (검정을 하는 만큼 오류가 발생한다.)\n",
    "2. 여러 개의 검정을 수행할 때 적절한 보정을 해야한다."
   ]
  },
  {
   "attachments": {},
   "cell_type": "markdown",
   "metadata": {},
   "source": [
    "##### 오류 타입\n",
    "\n",
    "1. 제 1종 오류 타입 (False Positive)\n",
    "    - 귀무가설이 참이지만, 대립가설이 참.\n",
    "    - 효과 없는 약에 대해 효과가 있다.\n",
    "    - 적절한 실험 계획 및 검정 방법 선택 / 검정력 분석등을 최소화 가능\n",
    "\n",
    "2. 제 2종 오류 타입  (False Nenative)\n",
    "    - 귀무가설을 기각할 근거가 충분하지 않아, 귀무가설이 거짓임에도 불구하고 기각하지 못하는 오류\n",
    "    - 검정 결과로는 차이나 관계가 없는 것으로 반대의 오류가 생김.\n",
    "    - 약이 효과가 있음에도 효과가 없는 것으로 보여짐.\n",
    "    - 검정력을 적설하게 설정하는 것이 중요하다.\n",
    "\n",
    "- 보정 방법\n",
    "    - Bonferroni 보정 : 유의수준/가설의 개수로 설정함.\n",
    "    - Benajamini-Hochberg(BH) 보정 : 각각의 가설 검정에서 p-value를 큰 것부터 정렬하고, 사용자 지정 수준에 맞는 것을 선택"
   ]
  },
  {
   "cell_type": "code",
   "execution_count": 1,
   "metadata": {},
   "outputs": [],
   "source": [
    "import pandas as pd\n",
    "from scipy.stats import wilcoxon\n",
    "from statsmodels.stats.multitest import multipletests"
   ]
  },
  {
   "cell_type": "code",
   "execution_count": 36,
   "metadata": {},
   "outputs": [
    {
     "name": "stdout",
     "output_type": "stream",
     "text": [
      "sample 1 :\n",
      "statistic :  18.0\n",
      "p-value 1.0\n",
      "fail to reject HO\n",
      "-----------------\n",
      "sample 2 :\n",
      "statistic :  13.5\n",
      "p-value 0.9319149601232763\n",
      "fail to reject HO\n",
      "-----------------\n",
      "sample 3 :\n",
      "statistic :  8.5\n",
      "p-value 0.34732353285574014\n",
      "fail to reject HO\n",
      "-----------------\n",
      "sample 4 :\n",
      "statistic :  14.0\n",
      "p-value 0.30353286929141443\n",
      "fail to reject HO\n",
      "-----------------\n",
      "sample 5 :\n",
      "statistic :  14.0\n",
      "p-value 0.5574801348628696\n",
      "fail to reject HO\n",
      "-----------------\n",
      "sample 6 :\n",
      "statistic :  7.5\n",
      "p-value 0.5236085643722508\n",
      "fail to reject HO\n",
      "-----------------\n",
      "sample 7 :\n",
      "statistic :  9.5\n",
      "p-value 0.8316408424990329\n",
      "fail to reject HO\n",
      "-----------------\n",
      "sample 8 :\n",
      "statistic :  8.5\n",
      "p-value 0.17692900573221848\n",
      "fail to reject HO\n",
      "-----------------\n",
      "sample 9 :\n",
      "statistic :  7.5\n",
      "p-value 0.25963977138128647\n",
      "fail to reject HO\n",
      "-----------------\n",
      "sample 10 :\n",
      "statistic :  9.5\n",
      "p-value 0.4351560724455289\n",
      "fail to reject HO\n",
      "-----------------\n"
     ]
    },
    {
     "name": "stderr",
     "output_type": "stream",
     "text": [
      "/Library/Frameworks/Python.framework/Versions/3.10/lib/python3.10/site-packages/scipy/stats/_morestats.py:3414: UserWarning: Exact p-value calculation does not work if there are zeros. Switching to normal approximation.\n",
      "  warnings.warn(\"Exact p-value calculation does not work if there are \"\n",
      "/Library/Frameworks/Python.framework/Versions/3.10/lib/python3.10/site-packages/scipy/stats/_morestats.py:3428: UserWarning: Sample size too small for normal approximation.\n",
      "  warnings.warn(\"Sample size too small for normal approximation.\")\n"
     ]
    }
   ],
   "source": [
    "# 데이터 불러오기\n",
    "data = pd.read_csv('../00_DataEx/99_Output/treatment_data_multi.csv')\n",
    "p_values = []\n",
    "\n",
    "for i in range(10) :\n",
    "    sample = data.sample(frac=0.5)\n",
    "    st, p = wilcoxon(sample['pre_treatment'], sample['post_treatment'])\n",
    "    print(\"sample\", i+1, ':')\n",
    "    print('statistic : ', st)\n",
    "    print('p-value', p)\n",
    "    p_values.append(p)\n",
    "   \n",
    "    if p > 0.05 :\n",
    "        print(\"fail to reject HO\")\n",
    "    else :\n",
    "        print(\"reject HO\")\n",
    "    print(\"-----------------\")"
   ]
  },
  {
   "attachments": {},
   "cell_type": "markdown",
   "metadata": {},
   "source": [
    "#### Boneferroni 보정"
   ]
  },
  {
   "cell_type": "code",
   "execution_count": 37,
   "metadata": {},
   "outputs": [
    {
     "name": "stdout",
     "output_type": "stream",
     "text": [
      "Bonferroni\n",
      "sample : 1 : fail to reject HO\n",
      "sample : 2 : fail to reject HO\n",
      "sample : 3 : fail to reject HO\n",
      "sample : 4 : fail to reject HO\n",
      "sample : 5 : fail to reject HO\n",
      "sample : 6 : fail to reject HO\n",
      "sample : 7 : fail to reject HO\n",
      "sample : 8 : fail to reject HO\n",
      "sample : 9 : fail to reject HO\n",
      "sample : 10 : fail to reject HO\n"
     ]
    }
   ],
   "source": [
    "alpha = 0.05\n",
    "rejects_bonf, corrected_p_bonf, _, _ = multipletests(p_values, alpha=alpha, method='bonferroni')\n",
    "print(\"Bonferroni\")\n",
    "for i in range(len(rejects_bonf)) :\n",
    "    if rejects_bonf[i] :\n",
    "        print(f\"sample : {i+1} : reject HO\" )\n",
    "    else :\n",
    "        print(f\"sample : {i+1} : fail to reject HO\")"
   ]
  },
  {
   "attachments": {},
   "cell_type": "markdown",
   "metadata": {},
   "source": [
    "- rejects_bonf: 각 가설에 대한 기각 여부를 나타내는 불리언 배열입니다. \n",
    "- rejects_bonf[i]는 i번째 가설이 기각되었는지 여부를 나타냅니다.\n",
    "- corrected_p_bonf: 보정된 p-값들의 배열입니다. \n",
    "- corrected_p_bonf[i]는 i번째 가설의 보정된 p-값을 나타냅니다."
   ]
  }
 ],
 "metadata": {
  "kernelspec": {
   "display_name": "Python 3",
   "language": "python",
   "name": "python3"
  },
  "language_info": {
   "codemirror_mode": {
    "name": "ipython",
    "version": 3
   },
   "file_extension": ".py",
   "mimetype": "text/x-python",
   "name": "python",
   "nbconvert_exporter": "python",
   "pygments_lexer": "ipython3",
   "version": "3.10.8"
  },
  "orig_nbformat": 4
 },
 "nbformat": 4,
 "nbformat_minor": 2
}
