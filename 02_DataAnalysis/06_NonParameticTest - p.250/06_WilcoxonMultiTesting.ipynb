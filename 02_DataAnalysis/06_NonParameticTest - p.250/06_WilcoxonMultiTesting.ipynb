{
 "cells": [
  {
   "cell_type": "code",
   "execution_count": 11,
   "metadata": {},
   "outputs": [],
   "source": [
    "import pandas as pd\n",
    "from scipy.stats import wilcoxon\n",
    "from statsmodels.stats.multitest import multipletests"
   ]
  },
  {
   "cell_type": "code",
   "execution_count": 13,
   "metadata": {},
   "outputs": [
    {
     "name": "stdout",
     "output_type": "stream",
     "text": [
      "sample 1 :\n",
      "statistic :  6.0\n",
      "p-value 0.338724147759658\n",
      "fail to reject HO\n",
      "sample 2 :\n",
      "statistic :  17.0\n",
      "p-value 0.5090419233707015\n",
      "fail to reject HO\n",
      "sample 3 :\n",
      "statistic :  4.0\n",
      "p-value 0.08634782098366255\n",
      "fail to reject HO\n",
      "sample 4 :\n",
      "statistic :  21.5\n",
      "p-value 0.9044355828278577\n",
      "fail to reject HO\n",
      "sample 5 :\n",
      "statistic :  7.5\n",
      "p-value 0.25963977138128647\n",
      "fail to reject HO\n",
      "sample 6 :\n",
      "statistic :  4.0\n",
      "p-value 0.08634782098366255\n",
      "fail to reject HO\n",
      "sample 7 :\n",
      "statistic :  7.0\n",
      "p-value 0.45934672269888\n",
      "fail to reject HO\n",
      "sample 8 :\n",
      "statistic :  12.5\n",
      "p-value 0.4199205268058729\n",
      "fail to reject HO\n",
      "sample 9 :\n",
      "statistic :  6.0\n",
      "p-value 0.17163400299925546\n",
      "fail to reject HO\n",
      "sample 10 :\n",
      "statistic :  8.5\n",
      "p-value 0.6724316013205243\n",
      "fail to reject HO\n"
     ]
    },
    {
     "name": "stderr",
     "output_type": "stream",
     "text": [
      "/Library/Frameworks/Python.framework/Versions/3.10/lib/python3.10/site-packages/scipy/stats/_morestats.py:3414: UserWarning: Exact p-value calculation does not work if there are zeros. Switching to normal approximation.\n",
      "  warnings.warn(\"Exact p-value calculation does not work if there are \"\n",
      "/Library/Frameworks/Python.framework/Versions/3.10/lib/python3.10/site-packages/scipy/stats/_morestats.py:3428: UserWarning: Sample size too small for normal approximation.\n",
      "  warnings.warn(\"Sample size too small for normal approximation.\")\n"
     ]
    }
   ],
   "source": [
    "# 데이터 불러오기\n",
    "data = pd.read_csv('../00_DataEx/99_Output/treatment_data_multi.csv')\n",
    "p_values = []\n",
    "\n",
    "for i in range(10) :\n",
    "    sample = data.sample(frac=0.5)\n",
    "    st, p = wilcoxon(sample['pre_treatment'], sample['post_treatment'])\n",
    "    print(\"sample\", i+1, ':')\n",
    "    print('statistic : ', st)\n",
    "    print('p-value', p)\n",
    "    p_values.append(p)\n",
    "   \n",
    "    if p > 0.05 :\n",
    "        print(\"fail to reject HO\")\n",
    "    else :\n",
    "        print(\"reject HO\")"
   ]
  },
  {
   "cell_type": "code",
   "execution_count": 12,
   "metadata": {},
   "outputs": [
    {
     "name": "stdout",
     "output_type": "stream",
     "text": [
      "Bonferroni\n",
      "sample : 1 : fail to reject HO\n",
      "sample : 2 : fail to reject HO\n",
      "sample : 3 : fail to reject HO\n",
      "sample : 4 : fail to reject HO\n",
      "sample : 5 : fail to reject HO\n",
      "sample : 6 : fail to reject HO\n",
      "sample : 7 : fail to reject HO\n",
      "sample : 8 : fail to reject HO\n",
      "sample : 9 : fail to reject HO\n",
      "sample : 10 : fail to reject HO\n"
     ]
    }
   ],
   "source": [
    "# Boneferroni 보정\n",
    "\n",
    "alpha = 0.05\n",
    "rejects_bonf, corrected_p_bonf, _, _ = multipletests(p_values, alpha=alpha, method='bonferroni')\n",
    "print(\"Bonferroni\")\n",
    "for i in range(len(rejects_bonf)) :\n",
    "    if rejects_bonf[i] :\n",
    "        print(f\"sample : {i+1} : reject HO\" )\n",
    "    else :\n",
    "        print(f\"sample : {i+1} : fail to reject HO\")"
   ]
  },
  {
   "attachments": {},
   "cell_type": "markdown",
   "metadata": {},
   "source": [
    "- rejects_bonf: 각 가설에 대한 기각 여부를 나타내는 불리언 배열입니다. \n",
    "- rejects_bonf[i]는 i번째 가설이 기각되었는지 여부를 나타냅니다.\n",
    "- corrected_p_bonf: 보정된 p-값들의 배열입니다. \n",
    "- corrected_p_bonf[i]는 i번째 가설의 보정된 p-값을 나타냅니다."
   ]
  }
 ],
 "metadata": {
  "kernelspec": {
   "display_name": "Python 3",
   "language": "python",
   "name": "python3"
  },
  "language_info": {
   "codemirror_mode": {
    "name": "ipython",
    "version": 3
   },
   "file_extension": ".py",
   "mimetype": "text/x-python",
   "name": "python",
   "nbconvert_exporter": "python",
   "pygments_lexer": "ipython3",
   "version": "3.10.8"
  },
  "orig_nbformat": 4
 },
 "nbformat": 4,
 "nbformat_minor": 2
}
