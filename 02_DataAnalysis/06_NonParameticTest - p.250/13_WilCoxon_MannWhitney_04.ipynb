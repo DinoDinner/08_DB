{
 "cells": [
  {
   "cell_type": "code",
   "execution_count": 7,
   "metadata": {},
   "outputs": [],
   "source": [
    "import numpy as np\n",
    "import pandas as pd\n",
    "from scipy.stats import mannwhitneyu"
   ]
  },
  {
   "cell_type": "code",
   "execution_count": 10,
   "metadata": {},
   "outputs": [],
   "source": [
    "# 랜덤 데이터 생성\n",
    "np.random.seed(42)\n",
    "group1 = np.random.normal(loc=6, scale=1.5, size=1000)\n",
    "group2 = np.random.normal(loc=7, scale=1.5, size=1000)\n",
    "\n",
    "# csv 저장\n",
    "data = pd.DataFrame({\n",
    "    'group1':group1,\n",
    "    'group2':group2\n",
    "})\n",
    "\n",
    "data.to_csv('../00_DataEx/99_Output/sleep_data.csv',index=False,encoding='utf-8')"
   ]
  },
  {
   "cell_type": "code",
   "execution_count": 12,
   "metadata": {},
   "outputs": [
    {
     "name": "stdout",
     "output_type": "stream",
     "text": [
      "       group1    group2\n",
      "0    6.745071  9.099033\n",
      "1    5.792604  8.386951\n",
      "2    6.971533  7.089446\n",
      "3    8.284545  6.029595\n",
      "4    5.648770  8.047335\n",
      "..        ...       ...\n",
      "995  5.578350  8.605225\n",
      "996  8.696530  6.960218\n",
      "997  6.961264  5.677188\n",
      "998  5.143232  6.755400\n",
      "999  6.858874  5.882646\n",
      "\n",
      "[1000 rows x 2 columns]\n"
     ]
    }
   ],
   "source": [
    "# csv 읽기\n",
    "sleep_data = pd.read_csv('../00_DataEx/99_Output/sleep_data.csv')\n",
    "print(sleep_data)"
   ]
  },
  {
   "cell_type": "code",
   "execution_count": 14,
   "metadata": {},
   "outputs": [
    {
     "name": "stdout",
     "output_type": "stream",
     "text": [
      "0      6.745071\n",
      "1      5.792604\n",
      "2      6.971533\n",
      "3      8.284545\n",
      "4      5.648770\n",
      "         ...   \n",
      "995    5.578350\n",
      "996    8.696530\n",
      "997    6.961264\n",
      "998    5.143232\n",
      "999    6.858874\n",
      "Name: group1, Length: 1000, dtype: float64\n",
      "0      9.099033\n",
      "1      8.386951\n",
      "2      7.089446\n",
      "3      6.029595\n",
      "4      8.047335\n",
      "         ...   \n",
      "995    8.605225\n",
      "996    6.960218\n",
      "997    5.677188\n",
      "998    6.755400\n",
      "999    5.882646\n",
      "Name: group2, Length: 1000, dtype: float64\n"
     ]
    }
   ],
   "source": [
    "group1_data = data['group1']\n",
    "group2_data = data['group2']\n",
    "\n",
    "print(group1_data)\n",
    "print(group2_data)"
   ]
  },
  {
   "cell_type": "code",
   "execution_count": 17,
   "metadata": {},
   "outputs": [
    {
     "name": "stdout",
     "output_type": "stream",
     "text": [
      "300286.0 5.896635008667193e-54\n"
     ]
    }
   ],
   "source": [
    "# 맨-휘트니 검정 수행\n",
    "st, p_val = mannwhitneyu(group1_data,group2_data,alternative='two-sided')\n",
    "print(st,p_val)\n",
    "\n",
    "# two-sided : 양측검증으로 검증 수행함."
   ]
  },
  {
   "cell_type": "code",
   "execution_count": 18,
   "metadata": {},
   "outputs": [
    {
     "name": "stdout",
     "output_type": "stream",
     "text": [
      "두 집단 간에는 유의한 차이가 있음\n"
     ]
    }
   ],
   "source": [
    "# 유의 수준 0.05로 가설 검정\n",
    "if p_val < 0.05 :\n",
    "    print(\"두 집단 간에는 유의한 차이가 있음\")\n",
    "else :\n",
    "    print(\"두 집단 간에는 유의한 차이가 없음\")"
   ]
  }
 ],
 "metadata": {
  "kernelspec": {
   "display_name": "Python 3",
   "language": "python",
   "name": "python3"
  },
  "language_info": {
   "codemirror_mode": {
    "name": "ipython",
    "version": 3
   },
   "file_extension": ".py",
   "mimetype": "text/x-python",
   "name": "python",
   "nbconvert_exporter": "python",
   "pygments_lexer": "ipython3",
   "version": "3.10.8"
  },
  "orig_nbformat": 4
 },
 "nbformat": 4,
 "nbformat_minor": 2
}
