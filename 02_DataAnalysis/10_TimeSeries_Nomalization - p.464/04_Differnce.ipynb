{
 "cells": [
  {
   "attachments": {},
   "cell_type": "markdown",
   "metadata": {},
   "source": [
    "##### 04. 차분\n",
    "1. 현재 값과 이전 값 차이를 계산하는 방법\n",
    "2. 데이터의 변화나 트렌드를 파악하는 데 유용함\n",
    "3. 시계열 데이터의 불규칙성을 제거하고, 정상성(Stationary)을 가지는 시계열 데이터로 변환\n",
    "4. 평균과 분산이 시간에 따라 일정하게 유지되는 특성을 가질 수 있음.\n",
    "5. 대표적으로 1차분을 하고, 2차분이나 다 회차를 하기도 함"
   ]
  },
  {
   "cell_type": "code",
   "execution_count": 1,
   "metadata": {},
   "outputs": [],
   "source": [
    "import pandas as pd"
   ]
  },
  {
   "attachments": {},
   "cell_type": "markdown",
   "metadata": {},
   "source": [
    "#### 1. 데이터 생성"
   ]
  },
  {
   "cell_type": "code",
   "execution_count": 2,
   "metadata": {},
   "outputs": [],
   "source": [
    "data = pd.DataFrame({'Value':[10, 20, 30, 40, 50]})"
   ]
  },
  {
   "attachments": {},
   "cell_type": "markdown",
   "metadata": {},
   "source": [
    "#### 2. 차분 적용 및 결과 출력"
   ]
  },
  {
   "cell_type": "code",
   "execution_count": 4,
   "metadata": {},
   "outputs": [
    {
     "name": "stdout",
     "output_type": "stream",
     "text": [
      "   Value  DiffValue\n",
      "0     10        NaN\n",
      "1     20       10.0\n",
      "2     30       10.0\n",
      "3     40       10.0\n",
      "4     50       10.0\n"
     ]
    }
   ],
   "source": [
    "data['DiffValue'] = data['Value'].diff()\n",
    "\n",
    "print(data) # 0번 data는 차분이 없기 때문에 NaN으로 나옴"
   ]
  },
  {
   "attachments": {},
   "cell_type": "markdown",
   "metadata": {},
   "source": [
    "- 단순하게 차분한 결과가 추세로 나오진 않음\n",
    "- 결과 데이터를 분석해서 일정한 패턴이 나오면 추세로 판단 할 수 있음"
   ]
  }
 ],
 "metadata": {
  "kernelspec": {
   "display_name": "Python 3",
   "language": "python",
   "name": "python3"
  },
  "language_info": {
   "codemirror_mode": {
    "name": "ipython",
    "version": 3
   },
   "file_extension": ".py",
   "mimetype": "text/x-python",
   "name": "python",
   "nbconvert_exporter": "python",
   "pygments_lexer": "ipython3",
   "version": "3.10.8"
  },
  "orig_nbformat": 4
 },
 "nbformat": 4,
 "nbformat_minor": 2
}
