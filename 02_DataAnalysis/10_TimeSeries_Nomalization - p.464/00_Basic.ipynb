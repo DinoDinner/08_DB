{
 "cells": [
  {
   "attachments": {},
   "cell_type": "markdown",
   "metadata": {},
   "source": [
    "#### 00. 정규화와 변환의 필요성\n",
    "\n",
    "1. 데이터 스케일 조정 : 스케일의 차이는 모델링이나 분석에 어려울을 줄 수 있기에, 정규화로 각 변수의 범위를 조정하여 성능향상\n",
    "2. 정규 분포 가정 : 실제 데이터는 종종 비정규적인 분포를 가지고 있어서 정규 분포에 가깝게 변환\n",
    "3. 이상치 처리 : 이상치는 예측 결과를 왜곡 시킬 수 있기에, 이상치를 탐지하고 처리하여 신뢰성과 안정성 향상.\n",
    "4. 시계열 패턴 강조 : 시계열 데이터의 패턴을 강조할 수 있음\n",
    "5. 모델 안정성 향상 : 데이터가 안정된 상태로 도달하여 신뢰성 향상"
   ]
  },
  {
   "attachments": {},
   "cell_type": "markdown",
   "metadata": {},
   "source": [
    "#### 주요 정규화 변환 방법\n",
    "\n",
    "1. Min-Max Normalization (최대최소 정규화)\n",
    "2. Z-Score Normalization (z-점수 정규화)\n",
    "3. Log Transformation (로그 변환)\n",
    "4. Differncing (차분)\n",
    "5. Box-Cox Transform (박스-콕스 변환)"
   ]
  }
 ],
 "metadata": {
  "language_info": {
   "name": "python"
  },
  "orig_nbformat": 4
 },
 "nbformat": 4,
 "nbformat_minor": 2
}
