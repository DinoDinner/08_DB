{
 "cells": [
  {
   "attachments": {},
   "cell_type": "markdown",
   "metadata": {},
   "source": [
    "#### 02. 표준화\n",
    "\n",
    "1. 데이터의 평균을 0, 표준편차를 1로 만들어 표준 정규 분포에 맞도록 변환\n",
    "2. 데이터의 상대적인 크기와 분포를 비교하거나 다른 변수들과의 비교를 위해 사용\n",
    "3. 데이터간의 상대적인 위치와 분포를 파악할 수 있으며, 이상치나 극단적인 값에 대한 영향을 줄일 수 있음"
   ]
  },
  {
   "cell_type": "code",
   "execution_count": 3,
   "metadata": {},
   "outputs": [
    {
     "name": "stdout",
     "output_type": "stream",
     "text": [
      "Collecting scikit-learn\n",
      "  Downloading scikit_learn-1.2.2-cp310-cp310-macosx_12_0_arm64.whl (8.5 MB)\n",
      "\u001b[2K     \u001b[90m━━━━━━━━━━━━━━━━━━━━━━━━━━━━━━━━━━━━━━━━\u001b[0m \u001b[32m8.5/8.5 MB\u001b[0m \u001b[31m8.6 MB/s\u001b[0m eta \u001b[36m0:00:00\u001b[0m00:01\u001b[0m:00:01\u001b[0m\n",
      "\u001b[?25hRequirement already satisfied: numpy>=1.17.3 in /Library/Frameworks/Python.framework/Versions/3.10/lib/python3.10/site-packages (from scikit-learn) (1.24.3)\n",
      "Requirement already satisfied: scipy>=1.3.2 in /Library/Frameworks/Python.framework/Versions/3.10/lib/python3.10/site-packages (from scikit-learn) (1.10.1)\n",
      "Requirement already satisfied: joblib>=1.1.1 in /Library/Frameworks/Python.framework/Versions/3.10/lib/python3.10/site-packages (from scikit-learn) (1.2.0)\n",
      "Collecting threadpoolctl>=2.0.0 (from scikit-learn)\n",
      "  Downloading threadpoolctl-3.1.0-py3-none-any.whl (14 kB)\n",
      "Installing collected packages: threadpoolctl, scikit-learn\n",
      "Successfully installed scikit-learn-1.2.2 threadpoolctl-3.1.0\n",
      "Note: you may need to restart the kernel to use updated packages.\n"
     ]
    }
   ],
   "source": [
    "%pip install scikit-learn\n",
    "\n",
    "import pandas as pd\n",
    "from sklearn.preprocessing import StandardScaler"
   ]
  },
  {
   "attachments": {},
   "cell_type": "markdown",
   "metadata": {},
   "source": [
    "#### 1. 데이터 생성"
   ]
  },
  {
   "cell_type": "code",
   "execution_count": 4,
   "metadata": {},
   "outputs": [
    {
     "name": "stdout",
     "output_type": "stream",
     "text": [
      "         Date  Value\n",
      "0  2023-01-01     10\n",
      "1  2023-01-02     12\n",
      "2  2023-01-03     11\n",
      "3  2023-01-04     15\n",
      "4  2023-01-05      9\n",
      "..        ...    ...\n",
      "95 2023-04-06     13\n",
      "96 2023-04-07      8\n",
      "97 2023-04-08     14\n",
      "98 2023-04-09     10\n",
      "99 2023-04-10     16\n",
      "\n",
      "[100 rows x 2 columns]\n"
     ]
    }
   ],
   "source": [
    "# 시계열 데이터 생성\n",
    "dates = pd.date_range('2023-01-01',periods=100, freq='d')\n",
    "values = [10, 12, 11 ,15, 9,13, 8, 14, 10, 16] * 10\n",
    "\n",
    "# 데이터 프레임 생성\n",
    "data = pd.DataFrame({'Date':dates,'Value':values})\n",
    "print(data)"
   ]
  },
  {
   "attachments": {},
   "cell_type": "markdown",
   "metadata": {},
   "source": [
    "##### 2. 표준화 적용"
   ]
  },
  {
   "cell_type": "code",
   "execution_count": 6,
   "metadata": {},
   "outputs": [
    {
     "name": "stdout",
     "output_type": "stream",
     "text": [
      "         Date  Value  Value_scaled\n",
      "0  2023-01-01     10     -0.713746\n",
      "1  2023-01-02     12      0.079305\n",
      "2  2023-01-03     11     -0.317221\n",
      "3  2023-01-04     15      1.268883\n",
      "4  2023-01-05      9     -1.110272\n",
      "..        ...    ...           ...\n",
      "95 2023-04-06     13      0.475831\n",
      "96 2023-04-07      8     -1.506798\n",
      "97 2023-04-08     14      0.872357\n",
      "98 2023-04-09     10     -0.713746\n",
      "99 2023-04-10     16      1.665408\n",
      "\n",
      "[100 rows x 3 columns]\n"
     ]
    }
   ],
   "source": [
    "# 표준화 할 값 추출\n",
    "X =data['Value'].values.reshape(-1,1) # numpy 배열을 다시 재구조\n",
    "\n",
    "# 표준화 적용\n",
    "scaler = StandardScaler()\n",
    "X_scaled = scaler.fit_transform(X)\n",
    "\n",
    "# 표준화된 값을 새로운 열로 추가\n",
    "data['Value_scaled'] = X_scaled\n",
    "\n",
    "# 표준화된 값 출력 - [ Value -> Value_scaled ]\n",
    "print(data)"
   ]
  }
 ],
 "metadata": {
  "kernelspec": {
   "display_name": "Python 3",
   "language": "python",
   "name": "python3"
  },
  "language_info": {
   "codemirror_mode": {
    "name": "ipython",
    "version": 3
   },
   "file_extension": ".py",
   "mimetype": "text/x-python",
   "name": "python",
   "nbconvert_exporter": "python",
   "pygments_lexer": "ipython3",
   "version": "3.10.8"
  },
  "orig_nbformat": 4
 },
 "nbformat": 4,
 "nbformat_minor": 2
}
