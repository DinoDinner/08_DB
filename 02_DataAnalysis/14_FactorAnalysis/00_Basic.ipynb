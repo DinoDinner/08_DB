{
 "cells": [
  {
   "attachments": {},
   "cell_type": "markdown",
   "metadata": {},
   "source": [
    "#### 인자 분석\n",
    "1. 다변량 통계 분석 기법. 다양한 관찰 변수들 사이의 내재된 구조를 이해하고 설명하는데 사용됨\n",
    "2. 관찰 변수들을 더 적은 수으 잠재적 요인이나 인자로 설명하는 방법을 제공\n",
    "3. 데이터의 차원을 축소하고, 변수들 간의 상호관계나 패턴을 파악할 수 있음."
   ]
  },
  {
   "attachments": {},
   "cell_type": "markdown",
   "metadata": {},
   "source": [
    "#### 인자 분석 목적\n",
    "\n",
    "1. 데이터의 차원 축소 : 많은 수의 관찰 변수를 더 적은 수의 인자로 축소, 데이터 간소화\n",
    "2. 변수 간의 상관관게 파악 : 인자 분석을 통해 벼수들이 함께 변화화는 패턴이나 구조 파악\n",
    "3. 잠재적 요인 식별 : 변수들이 어떤 의미 있는 인자로 설명될 수 있는지 파악할 수 있음\n",
    "4. 변수 선택 및 특성 추출 : 중요한 인자나 변수들을 선택하고, 데이터의 핵심적인 특성을 추출\n"
   ]
  },
  {
   "attachments": {},
   "cell_type": "markdown",
   "metadata": {},
   "source": [
    "#### 인자분석 데이터의 결측치 처리\n",
    "\n",
    "1. 완전 데이터를 사용\n",
    "2. 대체값 사용\n",
    "3. 예측 모델을 활용한 대체\n",
    "4. EM 알고리즘"
   ]
  },
  {
   "attachments": {},
   "cell_type": "markdown",
   "metadata": {},
   "source": [
    "#### 인자분석 변수의 정규화 또는 표준화\n",
    "\n",
    "1. 변수의 정규화 : 변수의 척도를 일치시키는 과정 - 변수 범위 [0,1] or [-1,1]\n",
    "    - 변수들 간의 단위나 척도가 다를 때, 변수들을 비교 가능한 형태로 만들기 위해 사용\n",
    "\n",
    "    <br>\n",
    "\n",
    "2. 변수의 표준화 : 변수의 평균을 0, 표준편차를 1로 조정\n",
    "    - 변수의 값들을 평균과 표준편차에 상대적으로 위치한 값으로 변환"
   ]
  }
 ],
 "metadata": {
  "kernelspec": {
   "display_name": "Python 3",
   "language": "python",
   "name": "python3"
  },
  "language_info": {
   "codemirror_mode": {
    "name": "ipython",
    "version": 3
   },
   "file_extension": ".py",
   "mimetype": "text/x-python",
   "name": "python",
   "nbconvert_exporter": "python",
   "pygments_lexer": "ipython3",
   "version": "3.10.8"
  },
  "orig_nbformat": 4
 },
 "nbformat": 4,
 "nbformat_minor": 2
}
