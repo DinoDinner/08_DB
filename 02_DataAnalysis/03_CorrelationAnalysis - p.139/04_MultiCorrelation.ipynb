{
 "cells": [
  {
   "attachments": {},
   "cell_type": "markdown",
   "metadata": {},
   "source": [
    "#### 다중 상관 분석\n",
    "\n",
    "1. 두 개 이상의 독립 변수와 하나의 종속 변수 사이의 상관관계\n",
    "2. 모든 변수들 간의 상관계수 행렬을 구한 후, 이를 이용하여 변수들 간의 상관관계를 파악\n",
    "3. 가장 강한 상관관계를 가지는 변수를 가지고 예측모델 구성\n",
    "\n",
    "#### 부분 상관 분석\n",
    "1. 두 변수 간의 상관관계에서 다른 변수들의 영향을 제거한 후에 얻어진 상관관계를 계산\n",
    "2. 대표적으로 편 상관계수는 두 변수 간의 상관관계에서 다른 변수의 영향을 제거하고 나머지 변수들만으로 계산"
   ]
  },
  {
   "cell_type": "code",
   "execution_count": 1,
   "metadata": {},
   "outputs": [],
   "source": [
    "import seaborn as sns"
   ]
  },
  {
   "cell_type": "code",
   "execution_count": 2,
   "metadata": {},
   "outputs": [],
   "source": [
    "# titanic 데이터셋에서 일부 변수 선택\n",
    "cols = ['survived', 'pclass','age','fare']"
   ]
  },
  {
   "cell_type": "code",
   "execution_count": 3,
   "metadata": {},
   "outputs": [
    {
     "name": "stdout",
     "output_type": "stream",
     "text": [
      "          survived    pclass       age      fare\n",
      "survived  1.000000 -0.359653 -0.077221  0.268189\n",
      "pclass   -0.359653  1.000000 -0.369226 -0.554182\n",
      "age      -0.077221 -0.369226  1.000000  0.096067\n",
      "fare      0.268189 -0.554182  0.096067  1.000000\n"
     ]
    }
   ],
   "source": [
    "# 선택한 변수들을 가지고 새로운 데이터프레임 생성\n",
    "df = sns. load_dataset('titanic' )[cols].dropna ( )\n",
    "# 다중 상관 분석 수행\n",
    "corr = df.corr()\n",
    "# 결과 출력\n",
    "print (corr)"
   ]
  }
 ],
 "metadata": {
  "kernelspec": {
   "display_name": "Python 3",
   "language": "python",
   "name": "python3"
  },
  "language_info": {
   "codemirror_mode": {
    "name": "ipython",
    "version": 3
   },
   "file_extension": ".py",
   "mimetype": "text/x-python",
   "name": "python",
   "nbconvert_exporter": "python",
   "pygments_lexer": "ipython3",
   "version": "3.10.8"
  },
  "orig_nbformat": 4
 },
 "nbformat": 4,
 "nbformat_minor": 2
}
