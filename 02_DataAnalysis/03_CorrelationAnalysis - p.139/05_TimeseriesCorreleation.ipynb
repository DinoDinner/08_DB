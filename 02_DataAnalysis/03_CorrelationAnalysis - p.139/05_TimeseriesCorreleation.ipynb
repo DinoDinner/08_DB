{
 "cells": [
  {
   "attachments": {},
   "cell_type": "markdown",
   "metadata": {},
   "source": [
    "#### 시계열 상관 분석\n",
    "\n",
    "- 시간에 따라 변하는 두 변수사이의 상관관계를 평가하는 통계적 기술\n",
    "- 두 변수 간의 선형 또는 비선형관계를 파악"
   ]
  },
  {
   "cell_type": "code",
   "execution_count": 21,
   "metadata": {},
   "outputs": [],
   "source": [
    "import os"
   ]
  },
  {
   "cell_type": "code",
   "execution_count": 17,
   "metadata": {},
   "outputs": [
    {
     "name": "stdout",
     "output_type": "stream",
     "text": [
      "            005930.KS\n",
      "Date                 \n",
      "2021-01-04      86415\n",
      "2021-01-05      83555\n",
      "2021-01-06      86736\n",
      "2021-01-07      86323\n",
      "2021-01-08      81859\n",
      "...               ...\n",
      "2021-04-09      81177\n",
      "2021-04-10      85356\n",
      "2021-04-11      87653\n",
      "2021-04-12      81689\n",
      "2021-04-13      84668\n",
      "\n",
      "[100 rows x 1 columns]             066570.KS\n",
      "Date                 \n",
      "2021-01-04      55699\n",
      "2021-01-05      53321\n",
      "2021-01-06      52448\n",
      "2021-01-07      55403\n",
      "2021-01-08      55711\n",
      "...               ...\n",
      "2021-04-09      50039\n",
      "2021-04-10      57447\n",
      "2021-04-11      54444\n",
      "2021-04-12      50335\n",
      "2021-04-13      50847\n",
      "\n",
      "[100 rows x 1 columns]\n"
     ]
    }
   ],
   "source": [
    "import pandas as pd\n",
    "import random\n",
    "\n",
    "# 랜덤하게 각 주식의 가격 100개의 데이터 생성 - Samsung\n",
    "dates = pd.date_range(start='2021-01-04', periods=100, freq='D')\n",
    "samsung_prices = [random.randint(80000,90000) for _ in range(100)]\n",
    "samsung_data = {'Date':dates,'005930.KS':samsung_prices}\n",
    "samsung_df = pd.DataFrame(samsung_data)\n",
    "samsung_df.set_index('Date', inplace=True)\n",
    "\n",
    "# 랜덤하게 각 주식의 가격 100개의 데이터 생성 - LG\n",
    "dates = pd.date_range(start='2021-01-04', periods=100, freq='D')\n",
    "lg_prices = [random.randint(50000,60000) for _ in range(100)]\n",
    "lg_data = {'Date':dates,'066570.KS':lg_prices}\n",
    "lg_df = pd.DataFrame(lg_data)\n",
    "lg_df.set_index('Date', inplace=True)\n",
    "\n",
    "print(samsung_df, lg_df)"
   ]
  },
  {
   "cell_type": "code",
   "execution_count": 18,
   "metadata": {},
   "outputs": [],
   "source": [
    "#  두 데이터 프레임을 합치기\n",
    "df = pd.concat([samsung_df,lg_df],axis=1)\n",
    "df =df.loc[:,['005930.KS','066570.KS']]\n",
    "df.columns = ['Samsung','LG']"
   ]
  },
  {
   "cell_type": "code",
   "execution_count": 22,
   "metadata": {},
   "outputs": [],
   "source": [
    "# 폴더 생성\n",
    "os.makedirs(\"../00_DataEx/99_Output\", exist_ok=True)\n",
    "\n",
    "# 저장\n",
    "df.to_csv(\"../00_DataEx/99_Output/stock_price.csv\")"
   ]
  },
  {
   "cell_type": "code",
   "execution_count": 26,
   "metadata": {},
   "outputs": [
    {
     "name": "stdout",
     "output_type": "stream",
     "text": [
      "            Samsung     LG\n",
      "Date                      \n",
      "2021-01-04    86415  55699\n",
      "2021-01-05    83555  53321\n",
      "2021-01-06    86736  52448\n",
      "2021-01-07    86323  55403\n",
      "2021-01-08    81859  55711\n",
      "...             ...    ...\n",
      "2021-04-09    81177  50039\n",
      "2021-04-10    85356  57447\n",
      "2021-04-11    87653  54444\n",
      "2021-04-12    81689  50335\n",
      "2021-04-13    84668  50847\n",
      "\n",
      "[100 rows x 2 columns]\n",
      "             Samsung        LG\n",
      "Date                          \n",
      "2021-01-04       NaN       NaN\n",
      "2021-01-05 -0.033096 -0.042694\n",
      "2021-01-06  0.038071 -0.016373\n",
      "2021-01-07 -0.004762  0.056342\n",
      "2021-01-08 -0.051713  0.005559\n",
      "...              ...       ...\n",
      "2021-04-09 -0.011688 -0.095070\n",
      "2021-04-10  0.051480  0.148045\n",
      "2021-04-11  0.026911 -0.052274\n",
      "2021-04-12 -0.068041 -0.075472\n",
      "2021-04-13  0.036468  0.010172\n",
      "\n",
      "[100 rows x 2 columns]\n"
     ]
    }
   ],
   "source": [
    "# csv 읽기\n",
    "df = pd.read_csv(\"../00_DataEx/99_Output/stock_price.csv\")\n",
    "df['Date']  = pd.to_datetime(df['Date'])\n",
    "df.set_index('Date',inplace=True)\n",
    "print(df)\n",
    "\n",
    "# 두 종목의 수익률 계산\n",
    "returns = df.pct_change()\n",
    "print(returns)"
   ]
  },
  {
   "cell_type": "code",
   "execution_count": 27,
   "metadata": {},
   "outputs": [
    {
     "name": "stdout",
     "output_type": "stream",
     "text": [
      "          Samsung        LG\n",
      "Samsung  1.000000  0.273511\n",
      "LG       0.273511  1.000000\n"
     ]
    }
   ],
   "source": [
    "# 수익률 간의 상관 계수 계산\n",
    "corr_matrix = returns.corr()\n",
    "print(corr_matrix)"
   ]
  },
  {
   "cell_type": "code",
   "execution_count": 30,
   "metadata": {},
   "outputs": [
    {
     "data": {
      "text/plain": [
       "<function matplotlib.pyplot.show(close=None, block=None)>"
      ]
     },
     "execution_count": 30,
     "metadata": {},
     "output_type": "execute_result"
    },
    {
     "data": {
      "image/png": "[encoded data removed]",
      "text/plain": [
       "<Figure size 640x480 with 2 Axes>"
      ]
     },
     "metadata": {},
     "output_type": "display_data"
    }
   ],
   "source": [
    "import matplotlib.pyplot as plt\n",
    "import seaborn as sns\n",
    "\n",
    "# 히트맵 그리기\n",
    "\n",
    "sns.heatmap(corr_matrix, annot=True, cmap='coolwarm')\n",
    "plt.title('Stock Returns Correaltion')\n",
    "plt.show"
   ]
  },
  {
   "cell_type": "code",
   "execution_count": null,
   "metadata": {},
   "outputs": [],
   "source": []
  },
  {
   "cell_type": "code",
   "execution_count": null,
   "metadata": {},
   "outputs": [],
   "source": []
  }
 ],
 "metadata": {
  "kernelspec": {
   "display_name": "Python 3",
   "language": "python",
   "name": "python3"
  },
  "language_info": {
   "codemirror_mode": {
    "name": "ipython",
    "version": 3
   },
   "file_extension": ".py",
   "mimetype": "text/x-python",
   "name": "python",
   "nbconvert_exporter": "python",
   "pygments_lexer": "ipython3",
   "version": "3.10.8"
  },
  "orig_nbformat": 4
 },
 "nbformat": 4,
 "nbformat_minor": 2
}
