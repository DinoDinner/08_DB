{
 "cells": [
  {
   "attachments": {},
   "cell_type": "markdown",
   "metadata": {},
   "source": [
    "##### 다변량 분석을 위한 공분산과 상관행렬\n",
    "\n",
    "1. 공분산(Covariance)\n",
    "    - 두 변수 간의 관령성 및 방향을 나타내는 통계적 측도\n",
    "    - 두 변수가 함께 변하는 정도를 나타내며, 공분산 값이 양수면 함께 증가하거나 감소하는 경향\n",
    "    - 절대적인 값으로 변수 사이의 관련성 정도 비교 어려움\n",
    "\n",
    "    <br>\n",
    "\n",
    "2. 상관행렬(Correlation Matrix)\n",
    "    - 공분산을 정규화한 것. 변수 간의 선형 관계를 나타내는 행렬\n",
    "    - -1 ~ +1 까지의 상관계수로 관령성 정도를 판단할 수 있음."
   ]
  },
  {
   "attachments": {},
   "cell_type": "markdown",
   "metadata": {},
   "source": [
    "#### 공분산의 의미\n",
    "\n",
    "1. 관계의 존재 여부\n",
    "2. 관계의 강도\n",
    "3. 단위 의존성\n",
    "\n",
    "#### 공분산 행렬\n",
    "\n",
    "- 여러 변수들 간의 공분산을 나타내는 정사각 행렬\n",
    "- 대칭행렬, 대각선은 해당 변수의 자체 분산"
   ]
  },
  {
   "attachments": {},
   "cell_type": "markdown",
   "metadata": {},
   "source": [
    "#### 상관행렬의 의미\n",
    "\n",
    "1. 변수들 간의 관계 이해\n",
    "2. 변수 선택\n",
    "3. 다중공선성 판단\n",
    "4. 데이터 시각화"
   ]
  },
  {
   "attachments": {},
   "cell_type": "markdown",
   "metadata": {},
   "source": [
    "##### 공분산과 상관행렬의 차이\n",
    "\n",
    "1. 정의\n",
    "    - 공분산 : 두 변수간의 변동성을 측정하는 지표\n",
    "    - 상관 행렬 : 변수들 간의 선형 관계를 파악하는데 사용하는 정규화된 지표\n",
    "\n",
    "2. 값의 범위\n",
    "    - 공분산 : 변수들의 단위에 의존. 변수들 간의 단위 차이로 크기가 달라질 수 있음\n",
    "    - 상관 계수 : 공분산을 표준화하여 구한 값. 변수들 간의 선형 강도와 방향을 나타냄\n",
    "\n",
    "<br>\n",
    "\n",
    "- 상관 행렬은 변수들 간의 선형 관계를 더 정확하고 표준화된 방식으로 나타냄\n",
    "- 변수들 간의 상관 계수를 통해 변수들 간의 연관성을 파악하고, 변수 선택, 다중공선성 판단, 데이터 시각화등 다양한 분석 및 모델링 과정에 활용"
   ]
  },
  {
   "cell_type": "code",
   "execution_count": 8,
   "metadata": {},
   "outputs": [],
   "source": [
    "import numpy as np\n",
    "\n",
    "x = np.array([1,2,3,4,5])\n",
    "y = np.array([2,4,6,8,10])\n",
    "z = np.array([3,6,9,12,15])"
   ]
  },
  {
   "cell_type": "code",
   "execution_count": 9,
   "metadata": {},
   "outputs": [
    {
     "name": "stdout",
     "output_type": "stream",
     "text": [
      "Covariance Matrix : \n",
      "[[ 2.5  5.   7.5]\n",
      " [ 5.  10.  15. ]\n",
      " [ 7.5 15.  22.5]]\n"
     ]
    }
   ],
   "source": [
    "# Covariance\n",
    "\n",
    "cov_matrix = np.cov([x,y,z]).T\n",
    "print('Covariance Matrix : ')\n",
    "print(cov_matrix)"
   ]
  },
  {
   "cell_type": "code",
   "execution_count": 10,
   "metadata": {},
   "outputs": [
    {
     "name": "stdout",
     "output_type": "stream",
     "text": [
      "Correlation Coefficient : \n",
      "[[1. 1. 1.]\n",
      " [1. 1. 1.]\n",
      " [1. 1. 1.]]\n"
     ]
    }
   ],
   "source": [
    "# Correlation coefficient\n",
    "\n",
    "cor_matrix = np.corrcoef([x,y,z])\n",
    "print('Correlation Coefficient : ')\n",
    "print(cor_matrix)"
   ]
  },
  {
   "cell_type": "code",
   "execution_count": 11,
   "metadata": {},
   "outputs": [
    {
     "name": "stdout",
     "output_type": "stream",
     "text": [
      "Variables with high multicollinearity\n",
      "Variable 1 and Variable 2\n",
      "Variable 1 and Variable 3\n",
      "Variable 2 and Variable 3\n"
     ]
    }
   ],
   "source": [
    "threshold = 0.7\n",
    "print('Variables with high multicollinearity')\n",
    "for i in range(cor_matrix.shape[0]):\n",
    "    for j in range(i+1, cor_matrix.shape[1]):\n",
    "        if abs(cor_matrix[i,j]) > threshold:\n",
    "            print(f'Variable {i+1} and Variable {j+1}')"
   ]
  }
 ],
 "metadata": {
  "kernelspec": {
   "display_name": "Python 3",
   "language": "python",
   "name": "python3"
  },
  "language_info": {
   "codemirror_mode": {
    "name": "ipython",
    "version": 3
   },
   "file_extension": ".py",
   "mimetype": "text/x-python",
   "name": "python",
   "nbconvert_exporter": "python",
   "pygments_lexer": "ipython3",
   "version": "3.10.8"
  },
  "orig_nbformat": 4
 },
 "nbformat": 4,
 "nbformat_minor": 2
}
