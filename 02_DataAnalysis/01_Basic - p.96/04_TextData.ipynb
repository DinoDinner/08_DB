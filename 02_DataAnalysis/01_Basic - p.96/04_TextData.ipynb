{
 "cells": [
  {
   "attachments": {},
   "cell_type": "markdown",
   "metadata": {},
   "source": [
    "#### 텍스트 데이터 전처리\n",
    "\n",
    "1. Tokenize(토큰화)\n",
    "- 문장을 단어 단위로 분리하는 과정 (단어 수준의 분석)\n",
    "- 한국어의 경우 조사,어미 등 문장의 의미를 전달하는 중요한 역할을 하기 때문에 필수 작업\n",
    "\n",
    "<br>\n",
    "\n",
    "2. Stopwords(불용어)\n",
    "- 의미가 없는 단어들을 뜻함\n",
    "- 불용어를 제거하여 분석의 효율성을 높임\n",
    "\n",
    "<br>\n",
    "\n",
    "3. Stemmer(정규화)\n",
    "- 단어의 형태를 통일시키는 과정 (is,am = be)\n",
    "- 단어의 형태를 통일시켜 분석의 정확성을 높임\n",
    "\n",
    "<br>"
   ]
  },
  {
   "cell_type": "code",
   "execution_count": 6,
   "metadata": {},
   "outputs": [],
   "source": [
    "import nltk\n",
    "\n",
    "from nltk.corpus import stopwords\n",
    "from nltk.tokenize import word_tokenize\n",
    "from nltk.stem import PorterStemmer"
   ]
  },
  {
   "cell_type": "code",
   "execution_count": 10,
   "metadata": {},
   "outputs": [
    {
     "name": "stdout",
     "output_type": "stream",
     "text": [
      "토큰화: ['I', 'am', 'a', 'student', '.', 'I', 'am', 'studying', 'computer', 'science', '.']\n"
     ]
    }
   ],
   "source": [
    "# 토큰화\n",
    "# 입력된 문장을 단어단위로 쪼개어 리스트로 만듬\n",
    "\n",
    "text = \"I am a student. I am studying computer science.\"\n",
    "tokens = word_tokenize(text)\n",
    "print(\"토큰화:\", tokens)"
   ]
  },
  {
   "cell_type": "code",
   "execution_count": 13,
   "metadata": {},
   "outputs": [
    {
     "name": "stdout",
     "output_type": "stream",
     "text": [
      "불용어 처리 ['student', '.', 'studying', 'computer', 'science', '.']\n"
     ]
    }
   ],
   "source": [
    "# 불용어 처리\n",
    "# 의미를 찾는데 도움이 되지 않는 단어들을 제거\n",
    "\n",
    "stop_words = set(stopwords.words('english'))\n",
    "filterd_tokens = [token for token in tokens if token.lower() not in stop_words]\n",
    "print(\"불용어 처리\",filterd_tokens)"
   ]
  },
  {
   "cell_type": "code",
   "execution_count": 14,
   "metadata": {},
   "outputs": [
    {
     "name": "stdout",
     "output_type": "stream",
     "text": [
      "정규화 ['student', '.', 'studi', 'comput', 'scienc', '.']\n"
     ]
    }
   ],
   "source": [
    "# 정규화\n",
    "# 단어를 원형으로 돌리는 과정(Studying - Study)\n",
    "\n",
    "stemmer = PorterStemmer()\n",
    "normalized_tokens = [stemmer.stem(token) for token in filterd_tokens]\n",
    "print(\"정규화\", normalized_tokens)"
   ]
  }
 ],
 "metadata": {
  "kernelspec": {
   "display_name": "base",
   "language": "python",
   "name": "python3"
  },
  "language_info": {
   "codemirror_mode": {
    "name": "ipython",
    "version": 3
   },
   "file_extension": ".py",
   "mimetype": "text/x-python",
   "name": "python",
   "nbconvert_exporter": "python",
   "pygments_lexer": "ipython3",
   "version": "3.10.8"
  },
  "orig_nbformat": 4
 },
 "nbformat": 4,
 "nbformat_minor": 2
}
