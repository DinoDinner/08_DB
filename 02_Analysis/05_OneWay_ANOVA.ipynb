{
 "cells": [
  {
   "cell_type": "code",
   "execution_count": 1,
   "metadata": {},
   "outputs": [],
   "source": [
    "import pandas as pd\n",
    "import numpy as np"
   ]
  },
  {
   "cell_type": "code",
   "execution_count": 72,
   "metadata": {},
   "outputs": [
    {
     "name": "stdout",
     "output_type": "stream",
     "text": [
      "{'A': array([4, 5, 1, 2, 4, 1, 1, 2, 5, 5]), 'B': array([2, 3, 5, 3, 5, 4, 5, 3, 5, 3]), 'C': array([5, 2, 2, 1, 2, 2, 2, 2, 1, 5])}\n",
      "   A  B  C\n",
      "0  4  2  5\n",
      "1  5  3  2\n",
      "2  1  5  2\n",
      "3  2  3  1\n",
      "4  4  5  2\n",
      "5  1  4  2\n",
      "6  1  5  2\n",
      "7  2  3  2\n",
      "8  5  5  1\n",
      "9  5  3  5\n"
     ]
    }
   ],
   "source": [
    "# 가상의 데이터셋 생성\n",
    "np.random.seed(1)\n",
    "# 항상 seed를 걸어야 재학습 시 일정한 값이 나온다\n",
    "# 주어진 데이터로 실험하는게 중요함\n",
    "\n",
    "data = {\n",
    "    'A' : np.random.randint(1,6,10),\n",
    "    'B' : np.random.randint(1,6,10),\n",
    "    'C' : np.random.randint(1,6,10),\n",
    "}\n",
    "print(data)\n",
    "\n",
    "df = pd.DataFrame(data)\n",
    "print(df)"
   ]
  },
  {
   "cell_type": "code",
   "execution_count": 73,
   "metadata": {},
   "outputs": [
    {
     "name": "stdout",
     "output_type": "stream",
     "text": [
      "One-Way ANOVA\n",
      "=============\n",
      "F-statistic: 2.2966\n",
      "p-value:0.1199\n",
      "귀무 가설 채택\n"
     ]
    }
   ],
   "source": [
    "from scipy.stats import f_oneway\n",
    "\n",
    "# 일원분산 분석 수행\n",
    "f_stat, p_val = f_oneway(df['A'],df['B'],df['C'])\n",
    "\n",
    "print('One-Way ANOVA')\n",
    "print('=============')\n",
    "print(f'F-statistic: {f_stat:.4f}')\n",
    "print(f'p-value:{p_val:.4f}')\n",
    "\n",
    "alpha = 0.05\n",
    "if p_val < alpha:\n",
    "    print(\"귀무 가설 기각\")\n",
    "else:\n",
    "    print(\"귀무 가설 채택\")"
   ]
  }
 ],
 "metadata": {
  "kernelspec": {
   "display_name": "base",
   "language": "python",
   "name": "python3"
  },
  "language_info": {
   "codemirror_mode": {
    "name": "ipython",
    "version": 3
   },
   "file_extension": ".py",
   "mimetype": "text/x-python",
   "name": "python",
   "nbconvert_exporter": "python",
   "pygments_lexer": "ipython3",
   "version": "3.10.9"
  },
  "orig_nbformat": 4
 },
 "nbformat": 4,
 "nbformat_minor": 2
}
